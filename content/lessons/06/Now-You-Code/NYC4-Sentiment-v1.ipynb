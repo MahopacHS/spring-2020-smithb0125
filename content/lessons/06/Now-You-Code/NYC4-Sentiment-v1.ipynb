{
  "cells": [
    {
      "metadata": {},
      "cell_type": "markdown",
      "source": "# Now You Code 4: Sentiment v1.0\n\nLet's write a basic sentiment analyzer in Python. Sentiment analysis is the act of extracting mood from text. It has practical applications in analyzing reactions in social media, product opinions, movie reviews and much more.\n\nThe 1.0 version of our sentiment analyzer will start with a string of positive and negative words. For any input text and the sentiment score will be calculated by simply adding up the frequency of the positive words, then subtracting out the negative words.\n\nSo for example, if:\n\n```\n    positive_text = \"happy glad like\"\n    negative_text = \"angry mad hate\"\n    input_text = \"Amazon makes me like so angry and mad\"\n    score = -1 [ +1 for like, -1 for angry, -1 for mad]\n```\n\nYou will complete this program by first writing the sentiment function, then writing some tests for it.\n\nYou will conclude by writing the complete sentiment analyzer to score any sentence. \n\n"
    },
    {
      "metadata": {},
      "cell_type": "markdown",
      "source": "## Problem Analysis For Sentiment Function\n\n\nYou want to write `ScoreSentiment()` as a function:\n\n- Function: `ScoreSentiment()`\n- Arguments (input): `postive_text, negative_text, input_text`\n- Returns (output): `score (int)`\n\nAlgorithm (Steps in Program):\n\n```\nfor each word in our tokenized input_text\n    if word in positive_text then\n        increment seniment score\n    else if word in negative_text then\n        decrement sentiment score\n```\n\n## Step 1: Write the function\n"
    },
    {
      "metadata": {
        "trusted": true
      },
      "cell_type": "code",
      "source": "def ScoreSentiment(positive_text, negative_text, input_text):\n    sentiment_score = 0\n    for word in input_text.split():\n        if word in positive_text.split():\n            sentiment_score += 1\n        elif word in negative_text.split():\n            sentiment_score -= 1\n    \n    return sentiment_score",
      "execution_count": 21,
      "outputs": []
    },
    {
      "metadata": {},
      "cell_type": "markdown",
      "source": "## Step 2: Write tests for the function\n\nWith the function complete, we need to test our function. The simplest way to do that is call the function with inputs we expect and verify the output. For example:\n\n```\npos_text='happy joy good'\nneg_text ='sad pain bad'\n\nWHEN input_text='I am sad with joy' We EXPECT ScoreSentiment(pos_text, neg_text, input_text) to return 0\nWHEN input_text='I am sad and in pain' We EXPECT ScoreSentiment(pos_text, neg_text, input_text) to return -2\nWHEN input_text='I am happy with joy' We EXPECT ScoreSentiment(pos_text, neg_text, input_text) to return 2\n```\n"
    },
    {
      "metadata": {
        "trusted": true
      },
      "cell_type": "code",
      "source": "## TODO write tests here.\npos_text='happy joy good'\nneg_text='sad pain bad'\nprint(ScoreSentiment(pos_text, neg_text, 'I am sad with joy'))\nprint(ScoreSentiment(pos_text, neg_text, 'I am sad and in pain'))\nprint(ScoreSentiment(pos_text, neg_text, 'I am happy with joy'))",
      "execution_count": 22,
      "outputs": [
        {
          "output_type": "stream",
          "text": "0\n-2\n2\n",
          "name": "stdout"
        }
      ]
    },
    {
      "metadata": {
        "trusted": true
      },
      "cell_type": "code",
      "source": "## TODO write tests here.\npos_text='happy joy good'\nneg_text='sad pain bad'\nScoreSentiment(pos_text, neg_text, 'in')",
      "execution_count": 23,
      "outputs": [
        {
          "output_type": "execute_result",
          "execution_count": 23,
          "data": {
            "text/plain": "0"
          },
          "metadata": {}
        }
      ]
    },
    {
      "metadata": {},
      "cell_type": "markdown",
      "source": ""
    },
    {
      "metadata": {
        "trusted": true
      },
      "cell_type": "code",
      "source": "",
      "execution_count": null,
      "outputs": []
    },
    {
      "metadata": {},
      "cell_type": "markdown",
      "source": "## Step 3: Write final program \n\nThen write a main program that executes like this:\n\nSample Run\n\n```\nSentiment Analyzer 1.0\nType 'quit' to exit.\nEnter Text: i love a good book from amazon\n2 positive.\nEnter Text: i hate amazon their service makes me angry\n-2 negative.\nEnter Text: i love to hate amazon\n0 neutral.\nEnter Text: quit\n```\n\nNOTE: make up your own strings of positive and negative words to make the sentiment more accurate. "
    },
    {
      "metadata": {},
      "cell_type": "markdown",
      "source": "###  3.a : Problem Analysis\n\nInputs:\n\n\nOutputs:\n\n\nAlgorithm:\n\n"
    },
    {
      "metadata": {
        "trusted": true
      },
      "cell_type": "code",
      "source": "print(\"Sentiment Analyzer 1.0\")\nprint(\"type 'quit' to exit\")\npos_text='happy joy love good'\nneg_text='hate angry disgust'\nwhile True:\n    text= input(\"Enter text:\")\n    if text == \"quit\":\n        break\n    score=ScoreSentiment(pos_text, neg_text, text)\n    if score > 0:\n        print(str(score)+\" positive\")\n    if score < 0:\n        print(str(score)+\" negative\")\n    if score == 0:\n        print(str(score)+\" neutral\")\n",
      "execution_count": 39,
      "outputs": [
        {
          "output_type": "stream",
          "text": "Sentiment Analyzer 1.0\ntype 'quit' to exit\nEnter text:hate joy love\n1 positive\nEnter text:hate hate hate\n-3 negative\nEnter text:love love love\n3 positive\nEnter text:yes no hate\n-1 negative\nEnter text:quit\n",
          "name": "stdout"
        }
      ]
    },
    {
      "metadata": {},
      "cell_type": "markdown",
      "source": "## Step 4: Questions\n\n1. What can be done to make the sentiment more accurate?\n\nAnswer: the positive and negative words can be pulled from a database\n\n\n2. Do you see a problem with the method of scoring?\n\n\nAnswer: the program desigener gets to choose what is positive and negative\n\n\n3. Does the function improve readability of the final program in 3.b? Why or why not?\n\n\nAnswer: the function improves the readability with positive negative and neutral.\n"
    },
    {
      "metadata": {},
      "cell_type": "markdown",
      "source": "## Step 5: Reflection\n\nReflect upon your experience completing this assignment. This should be a personal narrative, in your own voice, and cite specifics relevant to the activity as to help the grader understand how you arrived at the code you submitted. Things to consider touching upon: Elaborate on the process itself. Did your original problem analysis work as designed?  How many iterations did you go through before you arrived at the solution? Where did you struggle along the way and how did you overcome it? What did you learn from completing the assignment? What do you need to work on to get better? What was most valuable and least valuable about this exercise? Do you have any suggestions for improvements?\n\nTo make a good reflection, you should journal your thoughts, questions and comments while you complete the exercise.\n\nKeep your response to between 100 and 250 words.\n\n`--== Write Your Reflection Below Here ==--`\n\n"
    }
  ],
  "metadata": {
    "anaconda-cloud": {},
    "kernelspec": {
      "name": "python3",
      "display_name": "Python 3",
      "language": "python"
    },
    "language_info": {
      "mimetype": "text/x-python",
      "nbconvert_exporter": "python",
      "name": "python",
      "pygments_lexer": "ipython3",
      "version": "3.5.4",
      "file_extension": ".py",
      "codemirror_mode": {
        "version": 3,
        "name": "ipython"
      }
    },
    "toc": {
      "base_numbering": 1,
      "nav_menu": {},
      "number_sections": false,
      "sideBar": false,
      "skip_h1_title": false,
      "title_cell": "Table of Contents",
      "title_sidebar": "Contents",
      "toc_cell": false,
      "toc_position": {},
      "toc_section_display": false,
      "toc_window_display": false
    }
  },
  "nbformat": 4,
  "nbformat_minor": 1
}