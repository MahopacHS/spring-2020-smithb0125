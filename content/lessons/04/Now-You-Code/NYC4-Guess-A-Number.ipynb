{
  "cells": [
    {
      "metadata": {},
      "cell_type": "markdown",
      "source": "# Now You Code 4: Guess A Number\n\nWrite a program to play the classic \"Guess a number\" game.\n\nIn this game the computer selects a random number between 1 and 10.\nIt's your job to guess the number. Whenever you guess, the computer will\ngive you a hint of higher or lower. This process repeats until you guess\nthe number, after which the computer reports the number of guesses it took you.\n\n```\nFor Example:\n\nI'm thinking of a number between 1 and 10...\nYour guess: 5\nToo low. Guess higher.\nYour guess: 7\nToo high. Guess lower.\nYour guess: 6\nYou guessed it in 3 tries.\n```\n\nYour loop should continue until your input guess equals the\ncomputer generated random number.\n\n### How do you make Python generate a random number? "
    },
    {
      "metadata": {
        "trusted": false
      },
      "cell_type": "code",
      "source": "# Sample code which demostrates how to generate a number between 1 and 10\nimport random \nnumber = random.randint(1,10)\nprint(number)",
      "execution_count": 20,
      "outputs": [
        {
          "name": "stdout",
          "output_type": "stream",
          "text": "4\n"
        }
      ]
    },
    {
      "metadata": {},
      "cell_type": "markdown",
      "source": "Run the cell above a couple of times. Notice how each time you execute the code, it comes up with a different number. \n\nHere's a breakdown of the code\n\n```\nline 1 imports the random module\nline 2 randomly selects an integer between 1 and 10\nline 3 prints the number\n```\n\nNow that you understand how to generate a random number, try to design then write code for the program. The first step in your program should be to generate the random number."
    },
    {
      "metadata": {
        "collapsed": true
      },
      "cell_type": "markdown",
      "source": "## Step 1: Problem Analysis \n\nInputs: guess\n\nOutputs: random number\n\nAlgorithm (Steps in Program):\n\n\n"
    },
    {
      "metadata": {
        "trusted": true,
        "scrolled": true
      },
      "cell_type": "code",
      "source": "times=0\nwhile True:\n    import random\n    number=random.randint(1,100)\n    print(\"I'm thinking of a number between 1 and 10\")\n    input(\"Guess the number\")\n    times= times+1\n    if number==\"\":\n        print(\"You got it right!\")\n        break\n    if times==3:\n        print(\"Game Over\")\n        break\nprint(number)\n\n\n",
      "execution_count": 4,
      "outputs": [
        {
          "output_type": "stream",
          "text": "I'm thinking of a number between 1 and 10\nGuess the number1\nI'm thinking of a number between 1 and 10\nGuess the number2\nI'm thinking of a number between 1 and 10\nGuess the number3\nGame Over\n6\n",
          "name": "stdout"
        }
      ]
    },
    {
      "metadata": {},
      "cell_type": "markdown",
      "source": "## Step 3: Questions\n\n1. Which loop did you use to solve the problem? Was it a definite or indefinite loop?\n\nAnswer:   indefinite loop\n\n\n2. Modify this program to allow you to guess a number between 1 and 100. How much of your code did you need to change to make this work? \n\nAnswer:   just needed to add a single number\n\n\n3. This program is a good example of a difficult problem to conceptualize which has a simple solution when you look at actual lines of code. I assume you did not write this in a single try, so explain where you got stuck and describe your approach to overcoming it.\n\nAnswer:\ni got stuck because I ended up writing randint as randnt\n\n"
    },
    {
      "metadata": {},
      "cell_type": "markdown",
      "source": "## Step 4: Reflection\n\nReflect upon your experience completing this assignment. This should be a personal narrative, in your own voice, and cite specifics relevant to the activity as to help the grader understand how you arrived at the code you submitted. Things to consider touching upon: Elaborate on the process itself. Did your original problem analysis work as designed?  How many iterations did you go through before you arrived at the solution? Where did you struggle along the way and how did you overcome it? What did you learn from completing the assignment? What do you need to work on to get better? What was most valuable and least valuable about this exercise? Do you have any suggestions for improvements?\n\nTo make a good reflection, you should journal your thoughts, questions and comments while you complete the exercise.\n\nKeep your response to between 100 and 250 words.\n\n`--== Write Your Reflection Below Here ==--`\n\n"
    }
  ],
  "metadata": {
    "anaconda-cloud": {},
    "kernelspec": {
      "name": "python3",
      "display_name": "Python 3",
      "language": "python"
    },
    "language_info": {
      "mimetype": "text/x-python",
      "nbconvert_exporter": "python",
      "name": "python",
      "pygments_lexer": "ipython3",
      "version": "3.5.4",
      "file_extension": ".py",
      "codemirror_mode": {
        "version": 3,
        "name": "ipython"
      }
    },
    "toc": {
      "base_numbering": 1,
      "nav_menu": {},
      "number_sections": false,
      "sideBar": false,
      "skip_h1_title": false,
      "title_cell": "Table of Contents",
      "title_sidebar": "Contents",
      "toc_cell": false,
      "toc_position": {},
      "toc_section_display": false,
      "toc_window_display": false
    }
  },
  "nbformat": 4,
  "nbformat_minor": 1
}