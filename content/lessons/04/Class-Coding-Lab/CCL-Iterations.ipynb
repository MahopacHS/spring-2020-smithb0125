{
  "cells": [
    {
      "metadata": {
        "trusted": false
      },
      "cell_type": "code",
      "source": "# run this code to login to https://okpy.org/ and setup the assignment for submission\nfrom ist256 import okclient\nok = okclient.Lab()",
      "execution_count": null,
      "outputs": []
    },
    {
      "metadata": {},
      "cell_type": "markdown",
      "source": "# Class Coding Lab: Iterations\n\nThe goals of this lab are to help you to understand:\n\n- How loops work.\n- The difference between definite and indefinite loops, and when to use each.\n- How to build an indefinite loop with complex exit conditions.\n- How to create a program from a complex idea.\n"
    },
    {
      "metadata": {},
      "cell_type": "markdown",
      "source": "# Understanding Iterations\n\nIterations permit us to repeat code until a Boolean expression is `False`. Iterations or **loops** allow us to write succinct, compact code. Here's an example, which counts to 3 before [Blitzing the Quarterback in backyard American Football](https://www.quora.com/What-is-the-significance-of-counting-one-Mississippi-two-Mississippi-and-so-on):"
    },
    {
      "metadata": {
        "trusted": true
      },
      "cell_type": "code",
      "source": "i = 1\nwhile i <= 3:\n    print(i,\"Mississippi...\")\n    i=i+1\nprint(\"Blitz!\")",
      "execution_count": 1,
      "outputs": [
        {
          "output_type": "stream",
          "text": "1 Mississippi...\n2 Mississippi...\n3 Mississippi...\nBlitz!\n",
          "name": "stdout"
        }
      ]
    },
    {
      "metadata": {},
      "cell_type": "markdown",
      "source": "## Breaking it down...\n\nThe `while` statement on line 2 starts the loop. The code indented beneath the `while` (lines 3-4) will repeat, in a linear fashion until the Boolean expression on line 2 `i <= 3` is `False`, at which time the program continues with line 5.\n\n### Some Terminology\n\nWe call `i <=3` the loop's **exit condition**. The variable `i` inside the exit condition is the only thing that we can change to make the exit condition `False`, therefore it is the **loop control variable**. On line 4 we change the loop control variable by adding one to it, this is called an **increment**.\n\nFurthermore, we know how many times this loop will execute before it actually runs: 3. Even if we allowed the user to enter a number, and looped that many times, we would still know. We call this a **definite loop**. Whenever we iterate over a fixed number of values, regardless of whether those values are determined at run-time or not, we're using a definite loop.\n\nIf the loop control variable never forces the exit condition to be `False`, we have an **infinite loop**. As the name implies, an Infinite loop never ends and typically causes our computer to crash or lock up.   "
    },
    {
      "metadata": {
        "trusted": false
      },
      "cell_type": "code",
      "source": "## WARNING!!! INFINITE LOOP AHEAD\n## IF YOU RUN THIS CODE YOU WILL NEED TO KILL YOUR BROWSER AND SHUT DOWN JUPYTER NOTEBOOK\n\ni = 1\nwhile i <= 3:\n    print(i,\"Mississippi...\")\n#    i=i+1\nprint(\"Blitz!\")",
      "execution_count": null,
      "outputs": []
    },
    {
      "metadata": {},
      "cell_type": "markdown",
      "source": "### For loops\n\nTo prevent an infinite loop when the loop is definite, we use the `for` statement. Here's the same program using `for`:"
    },
    {
      "metadata": {
        "trusted": false
      },
      "cell_type": "code",
      "source": "for i in range(1,4):\n    print(i,\"Mississippi...\")\nprint(\"Blitz!\")",
      "execution_count": null,
      "outputs": []
    },
    {
      "metadata": {},
      "cell_type": "markdown",
      "source": "One confusing aspect of this loop is `range(1,4)` why does this loop from 1 to 3? Why not 1 to 4? Well it has to do with the fact that computers start counting at zero. The easier way to understand it is if you subtract the two numbers you get the number of times it will loop. So for example, 4-1 == 3.\n\n### Now Try It\n\nIn the space below, Re-Write the above program to count from 10 to 15. Note: How many times will that loop?"
    },
    {
      "metadata": {
        "trusted": true
      },
      "cell_type": "code",
      "source": "for i in range(10,15):\n    print(i,\"Mississippi...\")\nprint(\"Blitz!\")    \n",
      "execution_count": 2,
      "outputs": [
        {
          "output_type": "stream",
          "text": "10 Mississippi...\n11 Mississippi...\n12 Mississippi...\n13 Mississippi...\n14 Mississippi...\nBlitz!\n",
          "name": "stdout"
        }
      ]
    },
    {
      "metadata": {},
      "cell_type": "markdown",
      "source": "## Indefinite loops\n\nWith **indefinite loops** we do not know how many times the program will execute. This is typically based on user action, and therefore our loop is subject to the whims of whoever interacts with it. Most applications like spreadsheets, photo editors, and games use indefinite loops. They'll run on your computer, seemingly forever, until you choose to quit the application.  \n\nThe classic indefinite loop pattern involves getting input from the user inside the loop. We then inspect the input and based on that input we might exit the loop. Here's an example:"
    },
    {
      "metadata": {
        "trusted": false
      },
      "cell_type": "code",
      "source": "name = \"\"\nwhile name != 'mike':\n    name = input(\"Say my name! : \")\n    print(\"Nope, my name is not %s! \" %(name))",
      "execution_count": null,
      "outputs": []
    },
    {
      "metadata": {},
      "cell_type": "markdown",
      "source": "The classic problem with indefinite loops is that its really difficult to get the application's logic to line up with the exit condition. For example we need to set `name = \"\"` in line 1 so that line 2 starts out as `True`. Also we have this wonky logic where when we say `'mike'` it still prints `Nope, my name is not mike!` before exiting.\n\n### Break statement\n\nThe solution to this problem is to use the break statement. **break** tells Python to exit the loop immediately. We then re-structure all of our indefinite loops to look like this:\n\n```\nwhile True:\n    if exit-condition:\n        break\n```\n\nHere's our program we-written with the break statement. This is the recommended way to write indefinite loops in this course. \n\nNOTE: We always check for the setinal value immediately after the `input()` function."
    },
    {
      "metadata": {
        "trusted": false
      },
      "cell_type": "code",
      "source": "while True:\n    name = input(\"Say my name!: \")\n    if name == 'mike':\n        break\n    print(\"Nope, my name is not %s!\" %(name))",
      "execution_count": null,
      "outputs": []
    },
    {
      "metadata": {},
      "cell_type": "markdown",
      "source": "### Multiple exit conditions\n\nThis indefinite loop pattern makes it easy to add additional exit conditions. For example, here's the program again, but it now stops when you say my name or type in 3 wrong names. Make sure to run this program a couple of times. First enter mike to exit the program, next enter the wrong name 3 times."
    },
    {
      "metadata": {
        "trusted": false
      },
      "cell_type": "code",
      "source": "times = 0\nwhile True:\n    name = input(\"Say my name!: \")\n    times = times + 1\n    if name == 'mike':\n        print(\"You got it!\")\n        break\n    if times == 3:\n        print(\"Game over. Too many tries!\")\n        break\n    print(\"Nope, my name is not %s!\" %(name))",
      "execution_count": null,
      "outputs": []
    },
    {
      "metadata": {},
      "cell_type": "markdown",
      "source": "# Number sums\n\nLet's conclude the lab with you writing your own program which uses an indefinite loop. \n\nWe'll provide the to-do list, you write the code. This program should ask for floating point numbers as input and stops looping when **the total of the numbers entered is over 100**, or **5 numbers have been entered**. Those are your two exit conditions. After the loop stops print out the total of the numbers entered and the count of numbers entered. "
    },
    {
      "metadata": {
        "trusted": false
      },
      "cell_type": "code",
      "source": "## TO-DO List\n\n#1   count = 0\n#2   total = 0\n#3   loop Indefinitely\n#4.     input a number\n#5      increment count\n#6      add number to total\n#7      if count equals 5 stop looping\n#8      if total greater than 100 stop looping\n#9 print total and count",
      "execution_count": null,
      "outputs": []
    },
    {
      "metadata": {
        "trusted": true
      },
      "cell_type": "code",
      "source": "count = 0\ntotal = 0\nwhile True:\n    newNumber=int(input(\"Input a number: \"))\n    count = count+1\n    total=total+newNumber\n    if count == 5:\n        print(\"Max Number Count Reached\")\n        break\n    if total >= 100:\n        print(\"Total value above 100 reached\")\n        break\nprint(total,count)",
      "execution_count": 10,
      "outputs": [
        {
          "output_type": "stream",
          "name": "stdout",
          "text": "Input a number: 1\nInput a number: 2\nInput a number: 3\nInput a number: 4\nInput a number: 5\nMax Number\n15 5\n"
        }
      ]
    },
    {
      "metadata": {},
      "cell_type": "markdown",
      "source": "##### Metacognition\n\nPlease answer the following questions. This should be a personal narrative, in your own voice. Answer the questions by double clicking on the question and placing your answer next to the Answer: prompt.\n\n\n1. Record any questions you have about this lab that you would like to ask in recitation. It is expected you will have questions if you did not complete the code sections correctly.  Learning how to articulate what you do not understand is an important skill of critical thinking. \n\nAnswer: why is i the most common for loops?\n\n2. What was the most difficult aspect of completing this lab? Least difficult?  \n\nAnswer: the most difficult aspect was indenting \n\n3. What aspects of this lab do you find most valuable? Least valuable?\n\nAnswer: I find indenting most valuble as forgetting to indent won't let parts of code run \n\n4. Rate your comfort level with this week's material so far.   \n\n1 ==> I can do this on my own and explain how to do it.   \n2 ==> I can do this on my own without any help.   \n3 ==> I can do this with help or guidance from others. If you choose this level please list those who helped you.   \n4 ==> I don't understand this at all yet and need extra help. If you choose this please try to articulate that which you do not understand.   \n\nAnswer: 2\n\n"
    },
    {
      "metadata": {
        "trusted": false
      },
      "cell_type": "code",
      "source": "# to save and turn in your work, execute this cell. Your latest submission will be graded. \nok.submit()",
      "execution_count": null,
      "outputs": []
    }
  ],
  "metadata": {
    "anaconda-cloud": {},
    "kernelspec": {
      "name": "python3",
      "display_name": "Python 3",
      "language": "python"
    },
    "language_info": {
      "mimetype": "text/x-python",
      "nbconvert_exporter": "python",
      "name": "python",
      "pygments_lexer": "ipython3",
      "version": "3.5.4",
      "file_extension": ".py",
      "codemirror_mode": {
        "version": 3,
        "name": "ipython"
      }
    },
    "toc": {
      "base_numbering": 1,
      "nav_menu": {},
      "number_sections": false,
      "sideBar": false,
      "skip_h1_title": false,
      "title_cell": "Table of Contents",
      "title_sidebar": "Contents",
      "toc_cell": false,
      "toc_position": {},
      "toc_section_display": false,
      "toc_window_display": false
    }
  },
  "nbformat": 4,
  "nbformat_minor": 1
}