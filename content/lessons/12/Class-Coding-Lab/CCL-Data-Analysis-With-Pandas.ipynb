{
  "cells": [
    {
      "metadata": {
        "trusted": false
      },
      "cell_type": "code",
      "source": "# run this code to login to https://okpy.org/ and setup the assignment for submission\nfrom ist256 import okclient\nok = okclient.Lab()",
      "execution_count": null,
      "outputs": []
    },
    {
      "metadata": {},
      "cell_type": "markdown",
      "source": "# In-Class Coding Lab: Data Analysis with Pandas\n\nIn this lab, we will perform a data analysis on the **RMS Titanic** passenger list. The RMS Titanic is one of the most famous ocean liners in history. On April 15, 1912 it sank after colliding with an iceberg in the North Atlantic Ocean. To learn more, read here: https://en.wikipedia.org/wiki/RMS_Titanic \n\nOur goal today is to perform a data analysis on a subset of the passenger list. We're looking for insights as to which types of passengers did and didn't survive. Women? Children? 1st Class Passengers? 3rd class? Etc. \n\nI'm sure you've heard the expression often said during emergencies: \"Women and Children first\" Let's explore this data set and find out if that's true!\n\nBefore we begin you should read up on what each of the columns mean in the data dictionary. You can find this information on this page: https://www.kaggle.com/c/titanic/data \n\n\n## Loading the data set\n\nFirst we load the dataset into a Pandas `DataFrame` variable. The `sample(10)` method takes a random sample of 10 passengers from the data set."
    },
    {
      "metadata": {
        "trusted": true
      },
      "cell_type": "code",
      "source": "import pandas as pd\nimport numpy as np\n\n# this turns off warning messages\nimport warnings\nwarnings.filterwarnings('ignore')\n\npassengers = pd.read_csv('CCL-titanic.csv')\npassengers.sample(10)",
      "execution_count": 1,
      "outputs": [
        {
          "output_type": "execute_result",
          "execution_count": 1,
          "data": {
            "text/plain": "     PassengerId  Survived  Pclass  \\\n468          469         0       3   \n528          529         0       3   \n121          122         0       3   \n47            48         1       3   \n852          853         0       3   \n434          435         0       1   \n134          135         0       2   \n630          631         1       1   \n749          750         0       3   \n328          329         1       3   \n\n                                               Name     Sex   Age  SibSp  \\\n468                              Scanlan, Mr. James    male   NaN      0   \n528                       Salonen, Mr. Johan Werner    male  39.0      0   \n121                      Moore, Mr. Leonard Charles    male   NaN      0   \n47                        O'Driscoll, Miss. Bridget  female   NaN      0   \n852                         Boulos, Miss. Nourelain  female   9.0      1   \n434                       Silvey, Mr. William Baird    male  50.0      1   \n134                  Sobey, Mr. Samuel James Hayden    male  25.0      0   \n630            Barkworth, Mr. Algernon Henry Wilson    male  80.0      0   \n749                         Connaghton, Mr. Michael    male  31.0      0   \n328  Goldsmith, Mrs. Frank John (Emily Alice Brown)  female  31.0      1   \n\n     Parch      Ticket     Fare Cabin Embarked  \n468      0       36209   7.7250   NaN        Q  \n528      0     3101296   7.9250   NaN        S  \n121      0   A4. 54510   8.0500   NaN        S  \n47       0       14311   7.7500   NaN        Q  \n852      1        2678  15.2458   NaN        C  \n434      0       13507  55.9000   E44        S  \n134      0  C.A. 29178  13.0000   NaN        S  \n630      0       27042  30.0000   A23        S  \n749      0      335097   7.7500   NaN        Q  \n328      1      363291  20.5250   NaN        S  ",
            "text/html": "<div>\n<table border=\"1\" class=\"dataframe\">\n  <thead>\n    <tr style=\"text-align: right;\">\n      <th></th>\n      <th>PassengerId</th>\n      <th>Survived</th>\n      <th>Pclass</th>\n      <th>Name</th>\n      <th>Sex</th>\n      <th>Age</th>\n      <th>SibSp</th>\n      <th>Parch</th>\n      <th>Ticket</th>\n      <th>Fare</th>\n      <th>Cabin</th>\n      <th>Embarked</th>\n    </tr>\n  </thead>\n  <tbody>\n    <tr>\n      <th>468</th>\n      <td>469</td>\n      <td>0</td>\n      <td>3</td>\n      <td>Scanlan, Mr. James</td>\n      <td>male</td>\n      <td>NaN</td>\n      <td>0</td>\n      <td>0</td>\n      <td>36209</td>\n      <td>7.7250</td>\n      <td>NaN</td>\n      <td>Q</td>\n    </tr>\n    <tr>\n      <th>528</th>\n      <td>529</td>\n      <td>0</td>\n      <td>3</td>\n      <td>Salonen, Mr. Johan Werner</td>\n      <td>male</td>\n      <td>39.0</td>\n      <td>0</td>\n      <td>0</td>\n      <td>3101296</td>\n      <td>7.9250</td>\n      <td>NaN</td>\n      <td>S</td>\n    </tr>\n    <tr>\n      <th>121</th>\n      <td>122</td>\n      <td>0</td>\n      <td>3</td>\n      <td>Moore, Mr. Leonard Charles</td>\n      <td>male</td>\n      <td>NaN</td>\n      <td>0</td>\n      <td>0</td>\n      <td>A4. 54510</td>\n      <td>8.0500</td>\n      <td>NaN</td>\n      <td>S</td>\n    </tr>\n    <tr>\n      <th>47</th>\n      <td>48</td>\n      <td>1</td>\n      <td>3</td>\n      <td>O'Driscoll, Miss. Bridget</td>\n      <td>female</td>\n      <td>NaN</td>\n      <td>0</td>\n      <td>0</td>\n      <td>14311</td>\n      <td>7.7500</td>\n      <td>NaN</td>\n      <td>Q</td>\n    </tr>\n    <tr>\n      <th>852</th>\n      <td>853</td>\n      <td>0</td>\n      <td>3</td>\n      <td>Boulos, Miss. Nourelain</td>\n      <td>female</td>\n      <td>9.0</td>\n      <td>1</td>\n      <td>1</td>\n      <td>2678</td>\n      <td>15.2458</td>\n      <td>NaN</td>\n      <td>C</td>\n    </tr>\n    <tr>\n      <th>434</th>\n      <td>435</td>\n      <td>0</td>\n      <td>1</td>\n      <td>Silvey, Mr. William Baird</td>\n      <td>male</td>\n      <td>50.0</td>\n      <td>1</td>\n      <td>0</td>\n      <td>13507</td>\n      <td>55.9000</td>\n      <td>E44</td>\n      <td>S</td>\n    </tr>\n    <tr>\n      <th>134</th>\n      <td>135</td>\n      <td>0</td>\n      <td>2</td>\n      <td>Sobey, Mr. Samuel James Hayden</td>\n      <td>male</td>\n      <td>25.0</td>\n      <td>0</td>\n      <td>0</td>\n      <td>C.A. 29178</td>\n      <td>13.0000</td>\n      <td>NaN</td>\n      <td>S</td>\n    </tr>\n    <tr>\n      <th>630</th>\n      <td>631</td>\n      <td>1</td>\n      <td>1</td>\n      <td>Barkworth, Mr. Algernon Henry Wilson</td>\n      <td>male</td>\n      <td>80.0</td>\n      <td>0</td>\n      <td>0</td>\n      <td>27042</td>\n      <td>30.0000</td>\n      <td>A23</td>\n      <td>S</td>\n    </tr>\n    <tr>\n      <th>749</th>\n      <td>750</td>\n      <td>0</td>\n      <td>3</td>\n      <td>Connaghton, Mr. Michael</td>\n      <td>male</td>\n      <td>31.0</td>\n      <td>0</td>\n      <td>0</td>\n      <td>335097</td>\n      <td>7.7500</td>\n      <td>NaN</td>\n      <td>Q</td>\n    </tr>\n    <tr>\n      <th>328</th>\n      <td>329</td>\n      <td>1</td>\n      <td>3</td>\n      <td>Goldsmith, Mrs. Frank John (Emily Alice Brown)</td>\n      <td>female</td>\n      <td>31.0</td>\n      <td>1</td>\n      <td>1</td>\n      <td>363291</td>\n      <td>20.5250</td>\n      <td>NaN</td>\n      <td>S</td>\n    </tr>\n  </tbody>\n</table>\n</div>"
          },
          "metadata": {}
        }
      ]
    },
    {
      "metadata": {},
      "cell_type": "markdown",
      "source": "## How many survived?\n\nOne of the first things we should do is figure out how many of the passengers in this data set survived. Let's start with isolating just the `'Survivied'` column into a series:"
    },
    {
      "metadata": {
        "trusted": true
      },
      "cell_type": "code",
      "source": "passengers['Survived'].sample(10)",
      "execution_count": 2,
      "outputs": [
        {
          "output_type": "execute_result",
          "execution_count": 2,
          "data": {
            "text/plain": "857    1\n112    0\n103    0\n535    1\n77     0\n747    1\n830    1\n502    0\n668    0\n105    0\nName: Survived, dtype: int64"
          },
          "metadata": {}
        }
      ]
    },
    {
      "metadata": {},
      "cell_type": "markdown",
      "source": "There's too many to display so we just display a random sample of 10 passengers. \n\n- 1 means the passenger survivied\n- 0 means the passenger died\n\nWhat we really want is to count the number of survivors and deaths. We do this by querying the `value_counts()` of the `['Survived']` column, which returns a `Series` of counts, like this:"
    },
    {
      "metadata": {
        "trusted": true
      },
      "cell_type": "code",
      "source": "passengers['Survived'].value_counts()",
      "execution_count": 3,
      "outputs": [
        {
          "output_type": "execute_result",
          "execution_count": 3,
          "data": {
            "text/plain": "0    549\n1    342\nName: Survived, dtype: int64"
          },
          "metadata": {}
        }
      ]
    },
    {
      "metadata": {},
      "cell_type": "markdown",
      "source": "Only 342 passengers survived, and 549 perished. Let's observe this same data as percentages of the whole. We do this by adding the `normalize=True` named argument to the `value_counts()` method."
    },
    {
      "metadata": {
        "trusted": true
      },
      "cell_type": "code",
      "source": "passengers['Survived'].value_counts(normalize=True)",
      "execution_count": 4,
      "outputs": [
        {
          "output_type": "execute_result",
          "execution_count": 4,
          "data": {
            "text/plain": "0    0.616162\n1    0.383838\nName: Survived, dtype: float64"
          },
          "metadata": {}
        }
      ]
    },
    {
      "metadata": {},
      "cell_type": "markdown",
      "source": "**Just 38% of passengers in this dataset survived.**"
    },
    {
      "metadata": {},
      "cell_type": "markdown",
      "source": "### Now you Try it!\n\n**FIRST** Write a Pandas expression to display counts of males and female passengers using the `Sex` variable:"
    },
    {
      "metadata": {
        "trusted": true
      },
      "cell_type": "code",
      "source": "# todo write code here\npassengers['Sex'].value_counts()",
      "execution_count": 5,
      "outputs": [
        {
          "output_type": "execute_result",
          "execution_count": 5,
          "data": {
            "text/plain": "male      577\nfemale    314\nName: Sex, dtype: int64"
          },
          "metadata": {}
        }
      ]
    },
    {
      "metadata": {},
      "cell_type": "markdown",
      "source": "**NEXT** Write a Pandas expression to display male /female passenger counts as a percentage of the whole number of passengers in the data set."
    },
    {
      "metadata": {
        "trusted": true
      },
      "cell_type": "code",
      "source": "# todo write code here\npassengers['Sex'].value_counts(normalize=True)",
      "execution_count": 7,
      "outputs": [
        {
          "output_type": "execute_result",
          "execution_count": 7,
          "data": {
            "text/plain": "male      0.647587\nfemale    0.352413\nName: Sex, dtype: float64"
          },
          "metadata": {}
        }
      ]
    },
    {
      "metadata": {},
      "cell_type": "markdown",
      "source": "If you got things working, you now know that **35% of passengers were female**."
    },
    {
      "metadata": {},
      "cell_type": "markdown",
      "source": "## Who survivies? Men or Women?\n\nWe now know that 35% of the passengers were female, and 65% we male. \n\n**The next thing to think about is how do survivial rates affect these numbers? **\n\nIf the ratio is about the same for surviviors only, then we can conclude that your **Sex** did not play a role in your survival on the RMS Titanic. \n\nLet's find out."
    },
    {
      "metadata": {
        "trusted": true
      },
      "cell_type": "code",
      "source": "survivors = passengers[passengers['Survived'] ==1]\nsurvivors['PassengerId'].count()",
      "execution_count": 8,
      "outputs": [
        {
          "output_type": "execute_result",
          "execution_count": 8,
          "data": {
            "text/plain": "342"
          },
          "metadata": {}
        }
      ]
    },
    {
      "metadata": {},
      "cell_type": "markdown",
      "source": "Still **342** like we discovered originally. Now let's check the **Sex** split among survivors only:"
    },
    {
      "metadata": {
        "trusted": true
      },
      "cell_type": "code",
      "source": "survivors['Sex'].value_counts()",
      "execution_count": 9,
      "outputs": [
        {
          "output_type": "execute_result",
          "execution_count": 9,
          "data": {
            "text/plain": "female    233\nmale      109\nName: Sex, dtype: int64"
          },
          "metadata": {}
        }
      ]
    },
    {
      "metadata": {},
      "cell_type": "markdown",
      "source": "WOW! That is a huge difference! But you probably can't see it easily. Let's represent it in a `DataFrame`, so that it's easier to visualize:"
    },
    {
      "metadata": {
        "trusted": true
      },
      "cell_type": "code",
      "source": "sex_all_series = passengers['Sex'].value_counts()\nsex_survivor_series = survivors['Sex'].value_counts()\n\nsex_comparision_df = pd.DataFrame({ 'AllPassengers' : sex_all_series, 'Survivors' : sex_survivor_series })\nsex_comparision_df['SexSurvivialRate'] = sex_comparision_df['Survivors'] / sex_comparision_df['AllPassengers']\nsex_comparision_df",
      "execution_count": 10,
      "outputs": [
        {
          "output_type": "execute_result",
          "execution_count": 10,
          "data": {
            "text/plain": "        AllPassengers  Survivors  SexSurvivialRate\nfemale            314        233          0.742038\nmale              577        109          0.188908",
            "text/html": "<div>\n<table border=\"1\" class=\"dataframe\">\n  <thead>\n    <tr style=\"text-align: right;\">\n      <th></th>\n      <th>AllPassengers</th>\n      <th>Survivors</th>\n      <th>SexSurvivialRate</th>\n    </tr>\n  </thead>\n  <tbody>\n    <tr>\n      <th>female</th>\n      <td>314</td>\n      <td>233</td>\n      <td>0.742038</td>\n    </tr>\n    <tr>\n      <th>male</th>\n      <td>577</td>\n      <td>109</td>\n      <td>0.188908</td>\n    </tr>\n  </tbody>\n</table>\n</div>"
          },
          "metadata": {}
        }
      ]
    },
    {
      "metadata": {},
      "cell_type": "markdown",
      "source": " **So, females had a 74% survival rate. Much better than the overall rate of 38%**\n \nWe should probably briefly explain the code above. \n\n- The first two lines get a series count of all passengers by Sex (male / female) and count of survivors by sex\n- The third line creates a Pandas DataFrame. Recall a pandas dataframe is just a dictionary of series. We have two keys 'AllPassengers' and 'Survivors'\n- The  fourth line creates a new column in the dataframe which is just the survivors / all passengers to get the rate of survival for that Sex.\n\n## Feature Engineering: Adults and Children\n\nSometimes the variable we want to analyze is not readily available, but can be created from existing data. This is commonly referred to as **feature engineering**. The name comes from machine learning where we use data called *features* to predict an outcome. \n\nLet's create a new feature called `'AgeCat'` as follows:\n\n- When **Age** <=18 then 'Child'\n- When **Age** >18 then 'Adult'\n\nThis is easy to do in pandas. First we create the column and set all values to `np.nan` which means 'Not a number'. This is Pandas way of saying no value. Then we set the values based on the rules we set for the feature."
    },
    {
      "metadata": {
        "trusted": true
      },
      "cell_type": "code",
      "source": "passengers['AgeCat'] = np.nan # Not a number\npassengers['AgeCat'][ passengers['Age'] <=18 ] = 'Child'\npassengers['AgeCat'][ passengers['Age'] > 18 ] = 'Adult'\npassengers.sample(5)",
      "execution_count": 11,
      "outputs": [
        {
          "output_type": "execute_result",
          "execution_count": 11,
          "data": {
            "text/plain": "     PassengerId  Survived  Pclass                         Name     Sex   Age  \\\n21            22         1       2        Beesley, Mr. Lawrence    male  34.0   \n817          818         0       2           Mallet, Mr. Albert    male  31.0   \n356          357         1       1  Bowerman, Miss. Elsie Edith  female  22.0   \n231          232         0       3     Larsson, Mr. Bengt Edvin    male  29.0   \n843          844         0       3   Lemberopolous, Mr. Peter L    male  34.5   \n\n     SibSp  Parch           Ticket     Fare Cabin Embarked AgeCat  \n21       0      0           248698  13.0000   D56        S  Adult  \n817      1      1  S.C./PARIS 2079  37.0042   NaN        C  Adult  \n356      0      1           113505  55.0000   E33        S  Adult  \n231      0      0           347067   7.7750   NaN        S  Adult  \n843      0      0             2683   6.4375   NaN        C  Adult  ",
            "text/html": "<div>\n<table border=\"1\" class=\"dataframe\">\n  <thead>\n    <tr style=\"text-align: right;\">\n      <th></th>\n      <th>PassengerId</th>\n      <th>Survived</th>\n      <th>Pclass</th>\n      <th>Name</th>\n      <th>Sex</th>\n      <th>Age</th>\n      <th>SibSp</th>\n      <th>Parch</th>\n      <th>Ticket</th>\n      <th>Fare</th>\n      <th>Cabin</th>\n      <th>Embarked</th>\n      <th>AgeCat</th>\n    </tr>\n  </thead>\n  <tbody>\n    <tr>\n      <th>21</th>\n      <td>22</td>\n      <td>1</td>\n      <td>2</td>\n      <td>Beesley, Mr. Lawrence</td>\n      <td>male</td>\n      <td>34.0</td>\n      <td>0</td>\n      <td>0</td>\n      <td>248698</td>\n      <td>13.0000</td>\n      <td>D56</td>\n      <td>S</td>\n      <td>Adult</td>\n    </tr>\n    <tr>\n      <th>817</th>\n      <td>818</td>\n      <td>0</td>\n      <td>2</td>\n      <td>Mallet, Mr. Albert</td>\n      <td>male</td>\n      <td>31.0</td>\n      <td>1</td>\n      <td>1</td>\n      <td>S.C./PARIS 2079</td>\n      <td>37.0042</td>\n      <td>NaN</td>\n      <td>C</td>\n      <td>Adult</td>\n    </tr>\n    <tr>\n      <th>356</th>\n      <td>357</td>\n      <td>1</td>\n      <td>1</td>\n      <td>Bowerman, Miss. Elsie Edith</td>\n      <td>female</td>\n      <td>22.0</td>\n      <td>0</td>\n      <td>1</td>\n      <td>113505</td>\n      <td>55.0000</td>\n      <td>E33</td>\n      <td>S</td>\n      <td>Adult</td>\n    </tr>\n    <tr>\n      <th>231</th>\n      <td>232</td>\n      <td>0</td>\n      <td>3</td>\n      <td>Larsson, Mr. Bengt Edvin</td>\n      <td>male</td>\n      <td>29.0</td>\n      <td>0</td>\n      <td>0</td>\n      <td>347067</td>\n      <td>7.7750</td>\n      <td>NaN</td>\n      <td>S</td>\n      <td>Adult</td>\n    </tr>\n    <tr>\n      <th>843</th>\n      <td>844</td>\n      <td>0</td>\n      <td>3</td>\n      <td>Lemberopolous, Mr. Peter L</td>\n      <td>male</td>\n      <td>34.5</td>\n      <td>0</td>\n      <td>0</td>\n      <td>2683</td>\n      <td>6.4375</td>\n      <td>NaN</td>\n      <td>C</td>\n      <td>Adult</td>\n    </tr>\n  </tbody>\n</table>\n</div>"
          },
          "metadata": {}
        }
      ]
    },
    {
      "metadata": {},
      "cell_type": "markdown",
      "source": "Let's get the count and distrubutions of Adults and Children on the passenger list."
    },
    {
      "metadata": {
        "trusted": true
      },
      "cell_type": "code",
      "source": "passengers['AgeCat'].value_counts()",
      "execution_count": 12,
      "outputs": [
        {
          "output_type": "execute_result",
          "execution_count": 12,
          "data": {
            "text/plain": "Adult    575\nChild    139\nName: AgeCat, dtype: int64"
          },
          "metadata": {}
        }
      ]
    },
    {
      "metadata": {},
      "cell_type": "markdown",
      "source": "And here's the percentage as a whole:"
    },
    {
      "metadata": {
        "trusted": true
      },
      "cell_type": "code",
      "source": "passengers['AgeCat'].value_counts(normalize=True)",
      "execution_count": 13,
      "outputs": [
        {
          "output_type": "execute_result",
          "execution_count": 13,
          "data": {
            "text/plain": "Adult    0.805322\nChild    0.194678\nName: AgeCat, dtype: float64"
          },
          "metadata": {}
        }
      ]
    },
    {
      "metadata": {},
      "cell_type": "markdown",
      "source": "So close to **80%** of the passengers were adults. Once again let's look at the ratio of `AgeCat` for survivors only. If your age has no bearing of survivial, then the rates should be the same. \n\nHere are the counts of Adult / Children among the survivors only:"
    },
    {
      "metadata": {
        "trusted": true
      },
      "cell_type": "code",
      "source": "survivors = passengers[passengers['Survived'] ==1]\nsurvivors['AgeCat'].value_counts()",
      "execution_count": 14,
      "outputs": [
        {
          "output_type": "execute_result",
          "execution_count": 14,
          "data": {
            "text/plain": "Adult    220\nChild     70\nName: AgeCat, dtype: int64"
          },
          "metadata": {}
        }
      ]
    },
    {
      "metadata": {},
      "cell_type": "markdown",
      "source": "### Now You Try it!\n\nCalculate the `AgeCat` survival rate, similar to how we did for the `SexSurvivalRate`. "
    },
    {
      "metadata": {
        "trusted": true
      },
      "cell_type": "code",
      "source": "agecat_all_series = passengers['AgeCat'].value_counts()\nagecat_survivor_series = survivors['AgeCat'].value_counts()\n\n# todo make a data frame, add AgeCatSurvivialRate column, display dataframe \nagecat_comparison_df=pd.DataFrame({'AllPassengers':agecat_all_series,\"Survivors\":agecat_survivor_series})\n\nagecat_comparison_df['SexSurvivalRate']=agecat_comparison_df['Survivors']/agecat_comparison_df['AllPassengers']\n\nagecat_comparison_df",
      "execution_count": 16,
      "outputs": [
        {
          "output_type": "execute_result",
          "execution_count": 16,
          "data": {
            "text/plain": "       AllPassengers  Survivors  SexSurvivalRate\nAdult            575        220         0.382609\nChild            139         70         0.503597",
            "text/html": "<div>\n<table border=\"1\" class=\"dataframe\">\n  <thead>\n    <tr style=\"text-align: right;\">\n      <th></th>\n      <th>AllPassengers</th>\n      <th>Survivors</th>\n      <th>SexSurvivalRate</th>\n    </tr>\n  </thead>\n  <tbody>\n    <tr>\n      <th>Adult</th>\n      <td>575</td>\n      <td>220</td>\n      <td>0.382609</td>\n    </tr>\n    <tr>\n      <th>Child</th>\n      <td>139</td>\n      <td>70</td>\n      <td>0.503597</td>\n    </tr>\n  </tbody>\n</table>\n</div>"
          },
          "metadata": {}
        }
      ]
    },
    {
      "metadata": {},
      "cell_type": "markdown",
      "source": "**So, children had a 50% survival rate, better than the overall rate of 38%**\n\n## So, women and children first?\n\nIt looks like the RMS really did have the motto: \"Women and Children First.\"\n\nHere are our insights. We know:\n\n- If you were a passenger, you had a 38% chance of survival.\n- If you were a female passenger, you had a 74% chance of survival.\n- If you were a child passenger, you had a 50% chance of survival. \n\n\n### Now you try it for Passenger Class\n\nRepeat this process for `Pclass` The passenger class variable. Display the survival rates for each passenger class. What does the information tell you about passenger class and survival rates?\n\nI'll give you a hint... \"Money Talks\"\n"
    },
    {
      "metadata": {
        "trusted": true
      },
      "cell_type": "code",
      "source": "# todo: repeat the analysis in the previous cell for Pclass \npc_all_series=passengers['Pclass'].value_counts()\npc_survivor_series=survivors['Pclass'].value_counts()\n\npc_comparison_df=pd.DataFrame({'AllPassengers':pc_all_series,'Survivors':pc_survivor_series})\n\npc_comparison_df",
      "execution_count": 20,
      "outputs": [
        {
          "output_type": "execute_result",
          "execution_count": 20,
          "data": {
            "text/plain": "   AllPassengers  Survivors\n1            216        136\n2            184         87\n3            491        119",
            "text/html": "<div>\n<table border=\"1\" class=\"dataframe\">\n  <thead>\n    <tr style=\"text-align: right;\">\n      <th></th>\n      <th>AllPassengers</th>\n      <th>Survivors</th>\n    </tr>\n  </thead>\n  <tbody>\n    <tr>\n      <th>1</th>\n      <td>216</td>\n      <td>136</td>\n    </tr>\n    <tr>\n      <th>2</th>\n      <td>184</td>\n      <td>87</td>\n    </tr>\n    <tr>\n      <th>3</th>\n      <td>491</td>\n      <td>119</td>\n    </tr>\n  </tbody>\n</table>\n</div>"
          },
          "metadata": {}
        }
      ]
    },
    {
      "metadata": {},
      "cell_type": "markdown",
      "source": "## Metacognition\n\nPlease answer the following questions. This should be a personal narrative, in your own voice. Answer the questions by double clicking on the question and placing your answer next to the Answer: prompt.\n\n\n1. Record any questions you have about this lab that you would like to ask in recitation. It is expected you will have questions if you did not complete the code sections correctly.  Learning how to articulate what you do not understand is an important skill of critical thinking. \n\nAnswer: \n\n2. What was the most difficult aspect of completing this lab? Least difficult?  \n\nAnswer: \n\n3. What aspects of this lab do you find most valuable? Least valuable?\n\nAnswer: \n\n4. Rate your comfort level with this week's material so far.   \n\n1 ==> I can do this on my own and explain how to do it.   \n2 ==> I can do this on my own without any help.   \n3 ==> I can do this with help or guidance from others. If you choose this level please list those who helped you.   \n4 ==> I don't understand this at all yet and need extra help. If you choose this please try to articulate that which you do not understand.   \n\nAnswer: \n\n"
    },
    {
      "metadata": {
        "trusted": false
      },
      "cell_type": "code",
      "source": "# to save and turn in your work, execute this cell. Your latest submission will be graded. \nok.submit()",
      "execution_count": null,
      "outputs": []
    }
  ],
  "metadata": {
    "anaconda-cloud": {},
    "kernelspec": {
      "name": "python3",
      "display_name": "Python 3",
      "language": "python"
    },
    "toc": {
      "base_numbering": 1,
      "nav_menu": {},
      "number_sections": false,
      "sideBar": false,
      "skip_h1_title": false,
      "title_cell": "Table of Contents",
      "title_sidebar": "Contents",
      "toc_cell": false,
      "toc_position": {},
      "toc_section_display": false,
      "toc_window_display": false
    },
    "language_info": {
      "mimetype": "text/x-python",
      "nbconvert_exporter": "python",
      "name": "python",
      "file_extension": ".py",
      "version": "3.5.4",
      "pygments_lexer": "ipython3",
      "codemirror_mode": {
        "version": 3,
        "name": "ipython"
      }
    }
  },
  "nbformat": 4,
  "nbformat_minor": 1
}