{
  "cells": [
    {
      "metadata": {},
      "cell_type": "markdown",
      "source": "# Now You Code 4: Movie Goers Zipcode Lookup\n\nA movie company has hired you to help them enhance their data set. They would like to know which **US State** each of the respondents in their movie goers survey comes from, and ask you to produce a list of states and a count of movie goers from that state.\n\nThe movie goers dataset `'NYC1-moviegoers.csv'` from NYC1 contains `'zip_code'` but not city and state.\n\nWe will load another pandas dataset, **the Zipcode Database** here: \n`'https://raw.githubusercontent.com/mafudge/datasets/master/zipcodes/free-zipcode-database-Primary.csv'` This data set contains Zip codes with primary city, state and approximate location.\n\nYour goal is to figure out how to use the `DataFrame.merge()` method to combine these two data sets on matching zip code values.\nhttp://pandas.pydata.org/pandas-docs/stable/generated/pandas.DataFrame.merge.html \n\nAfter you merge the dataset, then you can complete the task and provide a count of movie goers by state.\n"
    },
    {
      "metadata": {
        "trusted": true
      },
      "cell_type": "code",
      "source": "# import pandas\nimport pandas as pd\n\n# this turns off warning messages\nimport warnings\nwarnings.filterwarnings('ignore')",
      "execution_count": 2,
      "outputs": []
    },
    {
      "metadata": {},
      "cell_type": "markdown",
      "source": "### Part 1: Load the movie goers dataset into a Pandas DataFrame\n\nWrite code to load the movie goers dataset (in csv format) into the variable `moviegoers` and then print the first few rows. "
    },
    {
      "metadata": {
        "trusted": true
      },
      "cell_type": "code",
      "source": "moviegoers=pd.read_csv('NYC1-moviegoers.csv')\nmoviegoers.head()",
      "execution_count": 3,
      "outputs": [
        {
          "output_type": "execute_result",
          "execution_count": 3,
          "data": {
            "text/plain": "   user_id  age gender  occupation zip_code\n0        1   24      M  technician    85711\n1        2   53      F       other    94043\n2        3   23      M      writer    32067\n3        4   24      M  technician    43537\n4        5   33      F       other    15213",
            "text/html": "<div>\n<table border=\"1\" class=\"dataframe\">\n  <thead>\n    <tr style=\"text-align: right;\">\n      <th></th>\n      <th>user_id</th>\n      <th>age</th>\n      <th>gender</th>\n      <th>occupation</th>\n      <th>zip_code</th>\n    </tr>\n  </thead>\n  <tbody>\n    <tr>\n      <th>0</th>\n      <td>1</td>\n      <td>24</td>\n      <td>M</td>\n      <td>technician</td>\n      <td>85711</td>\n    </tr>\n    <tr>\n      <th>1</th>\n      <td>2</td>\n      <td>53</td>\n      <td>F</td>\n      <td>other</td>\n      <td>94043</td>\n    </tr>\n    <tr>\n      <th>2</th>\n      <td>3</td>\n      <td>23</td>\n      <td>M</td>\n      <td>writer</td>\n      <td>32067</td>\n    </tr>\n    <tr>\n      <th>3</th>\n      <td>4</td>\n      <td>24</td>\n      <td>M</td>\n      <td>technician</td>\n      <td>43537</td>\n    </tr>\n    <tr>\n      <th>4</th>\n      <td>5</td>\n      <td>33</td>\n      <td>F</td>\n      <td>other</td>\n      <td>15213</td>\n    </tr>\n  </tbody>\n</table>\n</div>"
          },
          "metadata": {}
        }
      ]
    },
    {
      "metadata": {},
      "cell_type": "markdown",
      "source": "### Part 2: Load the zip code database into a Pandas DataFrame\n\nWrite code to load the movie goers dataset (in csv format) into the variable `zipcodes` and then print the first few rows. \n\nThe database (in csv format) can be found here: `'https://raw.githubusercontent.com/mafudge/datasets/master/zipcodes/free-zipcode-database-Primary.csv'`  \n\n**HINT:**  You must include the named argument `dtype={'Zipcode': object}` to the `read_csv()` method to force the `Zipcode` series to be the same type as in the `moviegoers` dataframe."
    },
    {
      "metadata": {
        "trusted": true
      },
      "cell_type": "code",
      "source": "zipcodes=pd.read_csv('https://raw.githubusercontent.com/mafudge/datasets/master/zipcodes/free-zipcode-database-Primary.csv',dtype={'Zipcode':object})\nzipcodes.head()",
      "execution_count": 5,
      "outputs": [
        {
          "output_type": "execute_result",
          "execution_count": 5,
          "data": {
            "text/plain": "  Zipcode ZipCodeType      City State LocationType    Lat   Long  \\\n0   00705    STANDARD  AIBONITO    PR      PRIMARY  18.14 -66.26   \n1   00610    STANDARD    ANASCO    PR      PRIMARY  18.28 -67.14   \n2   00611      PO BOX   ANGELES    PR      PRIMARY  18.28 -66.79   \n3   00612    STANDARD   ARECIBO    PR      PRIMARY  18.45 -66.73   \n4   00601    STANDARD  ADJUNTAS    PR      PRIMARY  18.16 -66.72   \n\n            Location Decommisioned  TaxReturnsFiled  EstimatedPopulation  \\\n0  NA-US-PR-AIBONITO         False              NaN                  NaN   \n1    NA-US-PR-ANASCO         False              NaN                  NaN   \n2   NA-US-PR-ANGELES         False              NaN                  NaN   \n3   NA-US-PR-ARECIBO         False              NaN                  NaN   \n4  NA-US-PR-ADJUNTAS         False              NaN                  NaN   \n\n   TotalWages  \n0         NaN  \n1         NaN  \n2         NaN  \n3         NaN  \n4         NaN  ",
            "text/html": "<div>\n<table border=\"1\" class=\"dataframe\">\n  <thead>\n    <tr style=\"text-align: right;\">\n      <th></th>\n      <th>Zipcode</th>\n      <th>ZipCodeType</th>\n      <th>City</th>\n      <th>State</th>\n      <th>LocationType</th>\n      <th>Lat</th>\n      <th>Long</th>\n      <th>Location</th>\n      <th>Decommisioned</th>\n      <th>TaxReturnsFiled</th>\n      <th>EstimatedPopulation</th>\n      <th>TotalWages</th>\n    </tr>\n  </thead>\n  <tbody>\n    <tr>\n      <th>0</th>\n      <td>00705</td>\n      <td>STANDARD</td>\n      <td>AIBONITO</td>\n      <td>PR</td>\n      <td>PRIMARY</td>\n      <td>18.14</td>\n      <td>-66.26</td>\n      <td>NA-US-PR-AIBONITO</td>\n      <td>False</td>\n      <td>NaN</td>\n      <td>NaN</td>\n      <td>NaN</td>\n    </tr>\n    <tr>\n      <th>1</th>\n      <td>00610</td>\n      <td>STANDARD</td>\n      <td>ANASCO</td>\n      <td>PR</td>\n      <td>PRIMARY</td>\n      <td>18.28</td>\n      <td>-67.14</td>\n      <td>NA-US-PR-ANASCO</td>\n      <td>False</td>\n      <td>NaN</td>\n      <td>NaN</td>\n      <td>NaN</td>\n    </tr>\n    <tr>\n      <th>2</th>\n      <td>00611</td>\n      <td>PO BOX</td>\n      <td>ANGELES</td>\n      <td>PR</td>\n      <td>PRIMARY</td>\n      <td>18.28</td>\n      <td>-66.79</td>\n      <td>NA-US-PR-ANGELES</td>\n      <td>False</td>\n      <td>NaN</td>\n      <td>NaN</td>\n      <td>NaN</td>\n    </tr>\n    <tr>\n      <th>3</th>\n      <td>00612</td>\n      <td>STANDARD</td>\n      <td>ARECIBO</td>\n      <td>PR</td>\n      <td>PRIMARY</td>\n      <td>18.45</td>\n      <td>-66.73</td>\n      <td>NA-US-PR-ARECIBO</td>\n      <td>False</td>\n      <td>NaN</td>\n      <td>NaN</td>\n      <td>NaN</td>\n    </tr>\n    <tr>\n      <th>4</th>\n      <td>00601</td>\n      <td>STANDARD</td>\n      <td>ADJUNTAS</td>\n      <td>PR</td>\n      <td>PRIMARY</td>\n      <td>18.16</td>\n      <td>-66.72</td>\n      <td>NA-US-PR-ADJUNTAS</td>\n      <td>False</td>\n      <td>NaN</td>\n      <td>NaN</td>\n      <td>NaN</td>\n    </tr>\n  </tbody>\n</table>\n</div>"
          },
          "metadata": {}
        }
      ]
    },
    {
      "metadata": {},
      "cell_type": "markdown",
      "source": "### Part 3: Merge both data sets into a single combined DataFrame\n\nNext we must merge the `moviegoers` DataFrame with the `zipcodes` DataFrame. To do this you must specify which zip code column from `moviegoers` matches the zip cod column from `zipcodes` (as you can see they have different names).\n\n```\nHelp on method merge in module pandas.core.frame:\n\nmerge(right, how='inner', on=None, left_on=None, right_on=None, left_index=False, right_index=False, sort=False, suffixes=('_x', '_y'), copy=True, indicator=False) method of pandas.core.frame.DataFrame instance\n    Merge DataFrame objects by performing a database-style join operation by\n    columns or indexes.\n```\n\nThe type of merge we will do is an `inner`, because we only want rows when the zip codes match. This is called an *intersection*.\n\nTo complete a merge we must specify the column names from the left and right DataFrames.  Most of the code has been written for you. Your task is to complete the columns for the merge, replacing `????` with the appropriate column names."
    },
    {
      "metadata": {
        "trusted": true
      },
      "cell_type": "code",
      "source": "combined=moviegoers.merge(zipcodes,how='inner',left_on='zip_code',right_on=\"Zipcode\")\ncombined.head()",
      "execution_count": 10,
      "outputs": [
        {
          "output_type": "execute_result",
          "execution_count": 10,
          "data": {
            "text/plain": "   user_id  age gender  occupation zip_code Zipcode ZipCodeType  \\\n0        1   24      M  technician    85711   85711    STANDARD   \n1      415   39      M    educator    85711   85711    STANDARD   \n2        2   53      F       other    94043   94043    STANDARD   \n3       29   41      M  programmer    94043   94043    STANDARD   \n4      105   24      M    engineer    94043   94043    STANDARD   \n\n            City State LocationType    Lat    Long                Location  \\\n0         TUCSON    AZ      PRIMARY  32.21 -110.88         NA-US-AZ-TUCSON   \n1         TUCSON    AZ      PRIMARY  32.21 -110.88         NA-US-AZ-TUCSON   \n2  MOUNTAIN VIEW    CA      PRIMARY  37.41 -122.05  NA-US-CA-MOUNTAIN VIEW   \n3  MOUNTAIN VIEW    CA      PRIMARY  37.41 -122.05  NA-US-CA-MOUNTAIN VIEW   \n4  MOUNTAIN VIEW    CA      PRIMARY  37.41 -122.05  NA-US-CA-MOUNTAIN VIEW   \n\n  Decommisioned  TaxReturnsFiled  EstimatedPopulation    TotalWages  \n0         False          17554.0              29028.0  5.068503e+08  \n1         False          17554.0              29028.0  5.068503e+08  \n2         False          14062.0              22824.0  1.083207e+09  \n3         False          14062.0              22824.0  1.083207e+09  \n4         False          14062.0              22824.0  1.083207e+09  ",
            "text/html": "<div>\n<table border=\"1\" class=\"dataframe\">\n  <thead>\n    <tr style=\"text-align: right;\">\n      <th></th>\n      <th>user_id</th>\n      <th>age</th>\n      <th>gender</th>\n      <th>occupation</th>\n      <th>zip_code</th>\n      <th>Zipcode</th>\n      <th>ZipCodeType</th>\n      <th>City</th>\n      <th>State</th>\n      <th>LocationType</th>\n      <th>Lat</th>\n      <th>Long</th>\n      <th>Location</th>\n      <th>Decommisioned</th>\n      <th>TaxReturnsFiled</th>\n      <th>EstimatedPopulation</th>\n      <th>TotalWages</th>\n    </tr>\n  </thead>\n  <tbody>\n    <tr>\n      <th>0</th>\n      <td>1</td>\n      <td>24</td>\n      <td>M</td>\n      <td>technician</td>\n      <td>85711</td>\n      <td>85711</td>\n      <td>STANDARD</td>\n      <td>TUCSON</td>\n      <td>AZ</td>\n      <td>PRIMARY</td>\n      <td>32.21</td>\n      <td>-110.88</td>\n      <td>NA-US-AZ-TUCSON</td>\n      <td>False</td>\n      <td>17554.0</td>\n      <td>29028.0</td>\n      <td>5.068503e+08</td>\n    </tr>\n    <tr>\n      <th>1</th>\n      <td>415</td>\n      <td>39</td>\n      <td>M</td>\n      <td>educator</td>\n      <td>85711</td>\n      <td>85711</td>\n      <td>STANDARD</td>\n      <td>TUCSON</td>\n      <td>AZ</td>\n      <td>PRIMARY</td>\n      <td>32.21</td>\n      <td>-110.88</td>\n      <td>NA-US-AZ-TUCSON</td>\n      <td>False</td>\n      <td>17554.0</td>\n      <td>29028.0</td>\n      <td>5.068503e+08</td>\n    </tr>\n    <tr>\n      <th>2</th>\n      <td>2</td>\n      <td>53</td>\n      <td>F</td>\n      <td>other</td>\n      <td>94043</td>\n      <td>94043</td>\n      <td>STANDARD</td>\n      <td>MOUNTAIN VIEW</td>\n      <td>CA</td>\n      <td>PRIMARY</td>\n      <td>37.41</td>\n      <td>-122.05</td>\n      <td>NA-US-CA-MOUNTAIN VIEW</td>\n      <td>False</td>\n      <td>14062.0</td>\n      <td>22824.0</td>\n      <td>1.083207e+09</td>\n    </tr>\n    <tr>\n      <th>3</th>\n      <td>29</td>\n      <td>41</td>\n      <td>M</td>\n      <td>programmer</td>\n      <td>94043</td>\n      <td>94043</td>\n      <td>STANDARD</td>\n      <td>MOUNTAIN VIEW</td>\n      <td>CA</td>\n      <td>PRIMARY</td>\n      <td>37.41</td>\n      <td>-122.05</td>\n      <td>NA-US-CA-MOUNTAIN VIEW</td>\n      <td>False</td>\n      <td>14062.0</td>\n      <td>22824.0</td>\n      <td>1.083207e+09</td>\n    </tr>\n    <tr>\n      <th>4</th>\n      <td>105</td>\n      <td>24</td>\n      <td>M</td>\n      <td>engineer</td>\n      <td>94043</td>\n      <td>94043</td>\n      <td>STANDARD</td>\n      <td>MOUNTAIN VIEW</td>\n      <td>CA</td>\n      <td>PRIMARY</td>\n      <td>37.41</td>\n      <td>-122.05</td>\n      <td>NA-US-CA-MOUNTAIN VIEW</td>\n      <td>False</td>\n      <td>14062.0</td>\n      <td>22824.0</td>\n      <td>1.083207e+09</td>\n    </tr>\n  </tbody>\n</table>\n</div>"
          },
          "metadata": {}
        }
      ]
    },
    {
      "metadata": {},
      "cell_type": "markdown",
      "source": "### Part 4: Merge both data sets into a single combined DataFrame\n\nFinally, produce the desired output a list of states and counts of movie goers from the survey in each state.\n\nHere's the top 5 for reference:\n\n```\nCA    116\nMN     78\nNY     60\nTX     51\nIL     50\n```"
    },
    {
      "metadata": {
        "trusted": true
      },
      "cell_type": "code",
      "source": "combined['State'].value_counts()",
      "execution_count": 11,
      "outputs": [
        {
          "output_type": "execute_result",
          "execution_count": 11,
          "data": {
            "text/plain": "CA    116\nMN     78\nNY     60\nTX     51\nIL     50\nPA     34\nOH     32\nVA     27\nMD     27\nFL     24\nWA     24\nMI     23\nWI     22\nCO     20\nOR     20\nGA     19\nNC     19\nMO     17\nIA     14\nAZ     14\nDC     14\nTN     12\nSC     11\nKY     11\nOK      9\nUT      9\nIN      9\nID      7\nNE      6\nLA      6\nAK      5\nKS      4\nNV      3\nWV      3\nAL      3\nMS      3\nDE      3\nNM      2\nND      2\nMT      2\nHI      2\nAR      1\nSD      1\nWY      1\nAP      1\nName: State, dtype: int64"
          },
          "metadata": {}
        }
      ]
    },
    {
      "metadata": {
        "trusted": true
      },
      "cell_type": "code",
      "source": "",
      "execution_count": null,
      "outputs": []
    },
    {
      "metadata": {
        "collapsed": true
      },
      "cell_type": "markdown",
      "source": "## Step 5: Questions\n\n1. Pandas programs are different than typical Python programs. Explain the process you followed to achieve the solution?\n\nAnswer: I used a process of making the panda program read the data and then i organized the data obtained from the csv into different groups\n\n\n2. What was the most difficult aspect of this assignment? \n\nAnswer: Making sure i didn't hit any incorrect keys while i typed because it would take forever to find an error\n\n"
    },
    {
      "metadata": {},
      "cell_type": "markdown",
      "source": "## Step 6: Reflection\n\nReflect upon your experience completing this assignment. This should be a personal narrative, in your own voice, and cite specifics relevant to the activity as to help the grader understand how you arrived at the code you submitted. Things to consider touching upon: Elaborate on the process itself. Did your original problem analysis work as designed?  How many iterations did you go through before you arrived at the solution? Where did you struggle along the way and how did you overcome it? What did you learn from completing the assignment? What do you need to work on to get better? What was most valuable and least valuable about this exercise? Do you have any suggestions for improvements?\n\nTo make a good reflection, you should journal your thoughts, questions and comments while you complete the exercise.\n\nKeep your response to between 100 and 250 words.\n\n`--== Write Your Reflection Below Here ==--`\n\n"
    }
  ],
  "metadata": {
    "anaconda-cloud": {},
    "kernelspec": {
      "name": "python3",
      "display_name": "Python 3",
      "language": "python"
    },
    "language_info": {
      "mimetype": "text/x-python",
      "nbconvert_exporter": "python",
      "name": "python",
      "pygments_lexer": "ipython3",
      "version": "3.5.4",
      "file_extension": ".py",
      "codemirror_mode": {
        "version": 3,
        "name": "ipython"
      }
    },
    "toc": {
      "base_numbering": 1,
      "nav_menu": {},
      "number_sections": false,
      "sideBar": false,
      "skip_h1_title": false,
      "title_cell": "Table of Contents",
      "title_sidebar": "Contents",
      "toc_cell": false,
      "toc_position": {},
      "toc_section_display": false,
      "toc_window_display": false
    }
  },
  "nbformat": 4,
  "nbformat_minor": 1
}