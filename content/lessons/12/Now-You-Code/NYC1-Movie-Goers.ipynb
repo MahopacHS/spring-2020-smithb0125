{
  "cells": [
    {
      "metadata": {},
      "cell_type": "markdown",
      "source": "# Now You Code 1: Data Analysis of Movie Goers\n\nIn this assignment you will perform a data analysis of people who go to the movies. \n\nA movie theatre chain asked movie goers to fill out a quick survey in exchange for a 1/2 price ticket. The survey asked for basic demographics: age, gender, occupation and zip code. This survey results are contained in the data file `'NYC1-moviegoers.csv'`\n\nIn this assignment you will write a series of Python pandas code (in several cells) to answer some basic questions about the responses in the dataset.\n"
    },
    {
      "metadata": {
        "collapsed": true,
        "trusted": false
      },
      "cell_type": "code",
      "source": "# this turns off warning messages\nimport warnings\nwarnings.filterwarnings('ignore')",
      "execution_count": 1,
      "outputs": []
    },
    {
      "metadata": {},
      "cell_type": "markdown",
      "source": "### Part 1: Load the dataset\n\nwrite code to import pandas and load the dataset (in csv format) into the variable `moviegoers` and then print a random sample of 5 people from the data set."
    },
    {
      "metadata": {
        "trusted": true
      },
      "cell_type": "code",
      "source": "import pandas as pd\nmoviegoers=pd.read_csv('NYC1-moviegoers.csv')\nmoviegoers.sample(5)",
      "execution_count": 1,
      "outputs": [
        {
          "output_type": "execute_result",
          "execution_count": 1,
          "data": {
            "text/plain": "     user_id  age gender     occupation zip_code\n783      784   47      M  administrator    91040\n736      737   30      M     programmer    98072\n797      798   40      F         writer    64131\n930      931   60      M       educator    33556\n321      322   20      M        student    50613",
            "text/html": "<div>\n<table border=\"1\" class=\"dataframe\">\n  <thead>\n    <tr style=\"text-align: right;\">\n      <th></th>\n      <th>user_id</th>\n      <th>age</th>\n      <th>gender</th>\n      <th>occupation</th>\n      <th>zip_code</th>\n    </tr>\n  </thead>\n  <tbody>\n    <tr>\n      <th>783</th>\n      <td>784</td>\n      <td>47</td>\n      <td>M</td>\n      <td>administrator</td>\n      <td>91040</td>\n    </tr>\n    <tr>\n      <th>736</th>\n      <td>737</td>\n      <td>30</td>\n      <td>M</td>\n      <td>programmer</td>\n      <td>98072</td>\n    </tr>\n    <tr>\n      <th>797</th>\n      <td>798</td>\n      <td>40</td>\n      <td>F</td>\n      <td>writer</td>\n      <td>64131</td>\n    </tr>\n    <tr>\n      <th>930</th>\n      <td>931</td>\n      <td>60</td>\n      <td>M</td>\n      <td>educator</td>\n      <td>33556</td>\n    </tr>\n    <tr>\n      <th>321</th>\n      <td>322</td>\n      <td>20</td>\n      <td>M</td>\n      <td>student</td>\n      <td>50613</td>\n    </tr>\n  </tbody>\n</table>\n</div>"
          },
          "metadata": {}
        }
      ]
    },
    {
      "metadata": {},
      "cell_type": "markdown",
      "source": "### Part 2: Gender distribution \n\nHow many males and females filled out our survey? \n\nWrite a single line of Python Pandas code to count the genders in the data set. (There should be M = 670, F = 273)\n\n**HINT:** Select the `gender` column then use a built-in series method to count the values in the series."
    },
    {
      "metadata": {
        "trusted": true
      },
      "cell_type": "code",
      "source": "moviegoers['gender'].value_counts()",
      "execution_count": 2,
      "outputs": [
        {
          "output_type": "execute_result",
          "execution_count": 2,
          "data": {
            "text/plain": "M    670\nF    273\nName: gender, dtype: int64"
          },
          "metadata": {}
        }
      ]
    },
    {
      "metadata": {},
      "cell_type": "markdown",
      "source": "### Part 3: People without jobs\n\nWho are the survey respondents without jobs? \n\nWrite Python Pandas code to create a variable `no_occupation` which filters the `moviegoers` data set to only those survey respondents with an ocupation of `'none'`.  (There should be 9 people)\n"
    },
    {
      "metadata": {
        "trusted": true
      },
      "cell_type": "code",
      "source": "no_job=moviegoers[moviegoers['occupation']=='none']\nno_job",
      "execution_count": 3,
      "outputs": [
        {
          "output_type": "execute_result",
          "execution_count": 3,
          "data": {
            "text/plain": "     user_id  age gender occupation zip_code\n56        57   16      M       none    84010\n126      127   33      M       none    73439\n129      130   20      M       none    60115\n255      256   35      F       none    39042\n288      289   11      M       none    94619\n417      418   55      F       none    21206\n627      628   13      M       none    94306\n656      657   26      F       none    78704\n755      756   30      F       none    90247",
            "text/html": "<div>\n<table border=\"1\" class=\"dataframe\">\n  <thead>\n    <tr style=\"text-align: right;\">\n      <th></th>\n      <th>user_id</th>\n      <th>age</th>\n      <th>gender</th>\n      <th>occupation</th>\n      <th>zip_code</th>\n    </tr>\n  </thead>\n  <tbody>\n    <tr>\n      <th>56</th>\n      <td>57</td>\n      <td>16</td>\n      <td>M</td>\n      <td>none</td>\n      <td>84010</td>\n    </tr>\n    <tr>\n      <th>126</th>\n      <td>127</td>\n      <td>33</td>\n      <td>M</td>\n      <td>none</td>\n      <td>73439</td>\n    </tr>\n    <tr>\n      <th>129</th>\n      <td>130</td>\n      <td>20</td>\n      <td>M</td>\n      <td>none</td>\n      <td>60115</td>\n    </tr>\n    <tr>\n      <th>255</th>\n      <td>256</td>\n      <td>35</td>\n      <td>F</td>\n      <td>none</td>\n      <td>39042</td>\n    </tr>\n    <tr>\n      <th>288</th>\n      <td>289</td>\n      <td>11</td>\n      <td>M</td>\n      <td>none</td>\n      <td>94619</td>\n    </tr>\n    <tr>\n      <th>417</th>\n      <td>418</td>\n      <td>55</td>\n      <td>F</td>\n      <td>none</td>\n      <td>21206</td>\n    </tr>\n    <tr>\n      <th>627</th>\n      <td>628</td>\n      <td>13</td>\n      <td>M</td>\n      <td>none</td>\n      <td>94306</td>\n    </tr>\n    <tr>\n      <th>656</th>\n      <td>657</td>\n      <td>26</td>\n      <td>F</td>\n      <td>none</td>\n      <td>78704</td>\n    </tr>\n    <tr>\n      <th>755</th>\n      <td>756</td>\n      <td>30</td>\n      <td>F</td>\n      <td>none</td>\n      <td>90247</td>\n    </tr>\n  </tbody>\n</table>\n</div>"
          },
          "metadata": {}
        }
      ]
    },
    {
      "metadata": {},
      "cell_type": "markdown",
      "source": "### Part 4: Gender distribution of people without jobs.\n\nWhat is the gender distribution of the 9 respondents without jobs? \n\nWrite Python Pandas code to display this. \n\n**HINT:** Use the variable `no_occupation` from the previous step."
    },
    {
      "metadata": {
        "trusted": true
      },
      "cell_type": "code",
      "source": "no_job['gender'].value_counts()",
      "execution_count": 5,
      "outputs": [
        {
          "output_type": "execute_result",
          "execution_count": 5,
          "data": {
            "text/plain": "M    5\nF    4\nName: gender, dtype: int64"
          },
          "metadata": {}
        }
      ]
    },
    {
      "metadata": {},
      "cell_type": "markdown",
      "source": "### Part 5: Young Artists\n\nWrite Python Pandas code to display the count of respondents with an occupation of artist who are 21 and under. (There should be 5)\n\n**HINT:** You can either set each Pandas filter to a new `DataFrame` variable or try to chain the filters together. Also display them before you try and count them."
    },
    {
      "metadata": {
        "trusted": true
      },
      "cell_type": "code",
      "source": "moviegoers[(moviegoers['age']<=21)&(moviegoers['occupation']=='artist')]['user_id'].count()",
      "execution_count": 9,
      "outputs": [
        {
          "output_type": "execute_result",
          "execution_count": 9,
          "data": {
            "text/plain": "5"
          },
          "metadata": {}
        }
      ]
    },
    {
      "metadata": {},
      "cell_type": "markdown",
      "source": "### Part 6: Distribution by age group\n\nThe movie theater which conducted this survey prices their tickets by age group:\n\n - Youth (age 18 and under) $7.50 \n \n - Adult (age 19 55) $12.50 \n \n - Senior (age 56 and up) $8.50 \n\nWrite python code to count the number of moviegoers in each of these age groups.\n\nYour counts should be as follows:\n```\nAdult     837\nYouth      54\nSenior     52\n```\n\n**HINT:** You must perform feature engineering. Create a new column `'age_group'` and use the `'age'` column to assign one or more values to the age group. After you create the column and set the values get a count of values for the `'age_group'` column.\n\n"
    },
    {
      "metadata": {
        "trusted": true
      },
      "cell_type": "code",
      "source": "moviegoers['age_group']=''\nmoviegoers['age_group'][moviegoers['age']<=18]='Youth'\nmoviegoers['age_group'][moviegoers['age']>=19]='Adult'\nmoviegoers['age_group'][moviegoers['age']>=56]='Senior'\nmoviegoers['age_group'].value_counts()",
      "execution_count": 10,
      "outputs": [
        {
          "output_type": "stream",
          "text": "/home/nbuser/anaconda3_420/lib/python3.5/site-packages/ipykernel/__main__.py:2: SettingWithCopyWarning: \nA value is trying to be set on a copy of a slice from a DataFrame\n\nSee the caveats in the documentation: http://pandas.pydata.org/pandas-docs/stable/indexing.html#indexing-view-versus-copy\n  from ipykernel import kernelapp as app\n/home/nbuser/anaconda3_420/lib/python3.5/site-packages/ipykernel/__main__.py:3: SettingWithCopyWarning: \nA value is trying to be set on a copy of a slice from a DataFrame\n\nSee the caveats in the documentation: http://pandas.pydata.org/pandas-docs/stable/indexing.html#indexing-view-versus-copy\n  app.launch_new_instance()\n/home/nbuser/anaconda3_420/lib/python3.5/site-packages/ipykernel/__main__.py:4: SettingWithCopyWarning: \nA value is trying to be set on a copy of a slice from a DataFrame\n\nSee the caveats in the documentation: http://pandas.pydata.org/pandas-docs/stable/indexing.html#indexing-view-versus-copy\n",
          "name": "stderr"
        },
        {
          "output_type": "execute_result",
          "execution_count": 10,
          "data": {
            "text/plain": "Adult     837\nYouth      54\nSenior     52\nName: age_group, dtype: int64"
          },
          "metadata": {}
        }
      ]
    },
    {
      "metadata": {},
      "cell_type": "markdown",
      "source": "## Step 7: Questions\n\n1. Pandas programs are different than typical Python programs. Explain the process by which you got the final solution?\n\nAnswer: I got the final solution by breaking everything down into different age groups\n\n\n2. What was the most difficult aspect of this assignment? \n\nAnswer: The most difficult part of this assignment was looking at the text to figure out what typos i made\n\n"
    },
    {
      "metadata": {},
      "cell_type": "markdown",
      "source": "## Step 8: Reflection\n\nReflect upon your experience completing this assignment. This should be a personal narrative, in your own voice, and cite specifics relevant to the activity as to help the grader understand how you arrived at the code you submitted. Things to consider touching upon: Elaborate on the process itself. Did your original problem analysis work as designed?  How many iterations did you go through before you arrived at the solution? Where did you struggle along the way and how did you overcome it? What did you learn from completing the assignment? What do you need to work on to get better? What was most valuable and least valuable about this exercise? Do you have any suggestions for improvements?\n\nTo make a good reflection, you should journal your thoughts, questions and comments while you complete the exercise.\n\nKeep your response to between 100 and 250 words.\n\n`--== Write Your Reflection Below Here ==--`\n\n"
    }
  ],
  "metadata": {
    "anaconda-cloud": {},
    "kernelspec": {
      "name": "python3",
      "display_name": "Python 3",
      "language": "python"
    },
    "language_info": {
      "mimetype": "text/x-python",
      "nbconvert_exporter": "python",
      "name": "python",
      "file_extension": ".py",
      "version": "3.5.4",
      "pygments_lexer": "ipython3",
      "codemirror_mode": {
        "version": 3,
        "name": "ipython"
      }
    },
    "toc": {
      "base_numbering": 1,
      "nav_menu": {},
      "number_sections": false,
      "sideBar": false,
      "skip_h1_title": false,
      "title_cell": "Table of Contents",
      "title_sidebar": "Contents",
      "toc_cell": false,
      "toc_position": {},
      "toc_section_display": false,
      "toc_window_display": false
    }
  },
  "nbformat": 4,
  "nbformat_minor": 1
}