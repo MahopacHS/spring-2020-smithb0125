{
  "cells": [
    {
      "metadata": {},
      "cell_type": "markdown",
      "source": "# Class Coding Lab: Introduction to Programming\n\nThe goals of this lab are to help you to understand:\n\n1. How to turn in your lab and homework\n2. the Jupyter programming environments\n3. basic Python Syntax\n4. variables and their use\n5. how to sequence instructions together into a cohesive program\n6. the input() function for input and print() function for output\n"
    },
    {
      "metadata": {},
      "cell_type": "markdown",
      "source": "## How To Turn In Your Lab and Homework\n\nWe will use UC Berkley's OK Python system to turn in your homework and labs. The process is simple.\n\n\n### One-Time Setup: Creating Your Ok Account\n\nFirst, sign up for the service using your Syracuse University Google account. To learn how to setup your SU Google acccount, visit https://ols.syr.edu/google-account-for-syracuse-university/\n\n1. Once you have your SU Google account, visit https://okpy.org and click the **Student Login** button.\n2. Login with `netid@g.syr.edu` where `netid` is your SU NetID. Do not use your personal google account. If you are logged in with your personal account, select the **Use another account** option.\n\n### Submission Process for Every Homework and Lab\n\nThe submission process is the same for every Homework and Lab:\n\nThere will be Python code at the top of the notebook file. Runing it will generate a link and provide an access code to connect your notebook to the Ok Assignment. \n\nTry This now, by running this cell. To run the cell, click on it then click the `>| Run` button in the toolbar."
    },
    {
      "metadata": {
        "trusted": true
      },
      "cell_type": "code",
      "source": "# run this code to login to https://okpy.org/ and setup the assignment for submission\nfrom ist256 import okclient\nok = okclient.Lab()",
      "execution_count": 1,
      "outputs": [
        {
          "output_type": "error",
          "ename": "ImportError",
          "evalue": "No module named 'ist256'",
          "traceback": [
            "\u001b[0;31m---------------------------------------------------------------------------\u001b[0m",
            "\u001b[0;31mImportError\u001b[0m                               Traceback (most recent call last)",
            "\u001b[0;32m<ipython-input-1-7982965f1923>\u001b[0m in \u001b[0;36m<module>\u001b[0;34m()\u001b[0m\n\u001b[1;32m      1\u001b[0m \u001b[0;31m# run this code to login to https://okpy.org/ and setup the assignment for submission\u001b[0m\u001b[0;34m\u001b[0m\u001b[0;34m\u001b[0m\u001b[0m\n\u001b[0;32m----> 2\u001b[0;31m \u001b[0;32mfrom\u001b[0m \u001b[0mist256\u001b[0m \u001b[0;32mimport\u001b[0m \u001b[0mokclient\u001b[0m\u001b[0;34m\u001b[0m\u001b[0m\n\u001b[0m\u001b[1;32m      3\u001b[0m \u001b[0mok\u001b[0m \u001b[0;34m=\u001b[0m \u001b[0mokclient\u001b[0m\u001b[0;34m.\u001b[0m\u001b[0mLab\u001b[0m\u001b[0;34m(\u001b[0m\u001b[0;34m)\u001b[0m\u001b[0;34m\u001b[0m\u001b[0m\n",
            "\u001b[0;31mImportError\u001b[0m: No module named 'ist256'"
          ]
        }
      ]
    },
    {
      "metadata": {},
      "cell_type": "markdown",
      "source": "After you link the notebook to the assignment, you can run `ok.submit()` to save your work to the OK System. You are welcome to do this multiple times, as the most recent submission will be graded. \n\nTry this now:"
    },
    {
      "metadata": {
        "trusted": true
      },
      "cell_type": "code",
      "source": "ok.submit()",
      "execution_count": 2,
      "outputs": [
        {
          "output_type": "error",
          "ename": "NameError",
          "evalue": "name 'ok' is not defined",
          "traceback": [
            "\u001b[0;31m---------------------------------------------------------------------------\u001b[0m",
            "\u001b[0;31mNameError\u001b[0m                                 Traceback (most recent call last)",
            "\u001b[0;32m<ipython-input-2-7b769b5941c1>\u001b[0m in \u001b[0;36m<module>\u001b[0;34m()\u001b[0m\n\u001b[0;32m----> 1\u001b[0;31m \u001b[0mok\u001b[0m\u001b[0;34m.\u001b[0m\u001b[0msubmit\u001b[0m\u001b[0;34m(\u001b[0m\u001b[0;34m)\u001b[0m\u001b[0;34m\u001b[0m\u001b[0m\n\u001b[0m",
            "\u001b[0;31mNameError\u001b[0m: name 'ok' is not defined"
          ]
        }
      ]
    },
    {
      "metadata": {
        "collapsed": true
      },
      "cell_type": "markdown",
      "source": "## Let's start with an example: Hello, world!\n\nThis program asks for your name as input, then says hello to you as output. Most often it's the first program you write when learning a new programming language. \n\nTO RUN THIS CODE: Click in the cell below and click the run cell button.\n\nNOTE: After the code executes, you will see a sequence number next to the code and output below the code itself. This is your indication the code in the cell has run. You must run all code cells in the notebook for full credit.\n"
    },
    {
      "metadata": {
        "trusted": true
      },
      "cell_type": "code",
      "source": "your_name= input(\"What is your name? \")\nprint('Hello there',your_name)",
      "execution_count": 3,
      "outputs": [
        {
          "output_type": "stream",
          "name": "stdout",
          "text": "What is your name? Caitlin\nHello there Caitlin\n"
        }
      ]
    },
    {
      "metadata": {},
      "cell_type": "markdown",
      "source": "Believe it or not there's a lot going on in this simple two-line program, so let's break it down.\n\n - **The first line:**\n  - Asks you for input, prompting you with `What is your Name?`\n  - It then stores your input in the variable `your_name` \n - **The second line:**\n  - prints out the following text: `Hello there`\n  - then prints out the contents of the variable `your_name`\n\nAt this point you might have a few questions. What is a variable? Why do I need it? Why is this two lines? Etc... All will be revealed in time."
    },
    {
      "metadata": {},
      "cell_type": "markdown",
      "source": "## Variables\n\nVariables are names in our code which store values. I think of variables as cardboard boxes. Boxes hold things. Variables hold things. The name of the variable is on the ouside of the box (that way you know which box it is), and value of the variable represents the contents of the box. \n\n### Variable Assignment\n\n**Assignment** is an operation where we store data in our variable. It's like packing something up in the box.\n\nIn this example we assign the value \"USA\" to the variable **country**"
    },
    {
      "metadata": {
        "trusted": true
      },
      "cell_type": "code",
      "source": "# Here's an example of variable assignment. \ncountry = 'USA'",
      "execution_count": 4,
      "outputs": []
    },
    {
      "metadata": {},
      "cell_type": "markdown",
      "source": "### Variable Access  \n\nWhat good is storing data if you cannot retrieve it? Lucky for us, retrieving the data in variable is as simple as calling its name:"
    },
    {
      "metadata": {
        "trusted": true
      },
      "cell_type": "code",
      "source": "country # Run this cell. Itshould say 'USA'",
      "execution_count": 5,
      "outputs": [
        {
          "output_type": "execute_result",
          "execution_count": 5,
          "data": {
            "text/plain": "'USA'"
          },
          "metadata": {}
        }
      ]
    },
    {
      "metadata": {},
      "cell_type": "markdown",
      "source": "At this point you might be thinking: Can I overwrite a variable? The answer, of course, is yes! Just re-assign it a different value:"
    },
    {
      "metadata": {
        "trusted": true
      },
      "cell_type": "code",
      "source": "country = 'Canada'",
      "execution_count": 6,
      "outputs": []
    },
    {
      "metadata": {},
      "cell_type": "markdown",
      "source": "You can also access a variable multiple times. Each time it simply gives you its value:"
    },
    {
      "metadata": {
        "trusted": true
      },
      "cell_type": "code",
      "source": "country, country, country",
      "execution_count": 7,
      "outputs": [
        {
          "output_type": "execute_result",
          "execution_count": 7,
          "data": {
            "text/plain": "('Canada', 'Canada', 'Canada')"
          },
          "metadata": {}
        }
      ]
    },
    {
      "metadata": {},
      "cell_type": "markdown",
      "source": "### The Purpose Of Variables\n\nVariables play an vital role in programming. Computer instructions have no memory of each other. That is one line of code has no idea what is happening in the other lines of code. The only way we can \"connect\" what happens from one line to the next is through variables. \n\nFor example, if we re-write the Hello, World program at the top of the page without variables, we get the following:\n"
    },
    {
      "metadata": {
        "trusted": true
      },
      "cell_type": "code",
      "source": "input(\"What is your name? \")\nprint('Hello there')",
      "execution_count": 8,
      "outputs": [
        {
          "output_type": "stream",
          "name": "stdout",
          "text": "What is your name? Caitlin\nHello there\n"
        }
      ]
    },
    {
      "metadata": {},
      "cell_type": "markdown",
      "source": "When you execute this program, notice there is no longer a connection between the input and the output. In fact, the input on line 1 doesn't matter because the output on line 2 doesn't know about it. It cannot because we never stored the results of the input into a variable!"
    },
    {
      "metadata": {},
      "cell_type": "markdown",
      "source": "### 1.1 Now Try this\n\nRe-write the program above to input a name and then say hello there, name. It will need to store the first line in a variable so that it can be printed on the 2nd line."
    },
    {
      "metadata": {
        "trusted": true
      },
      "cell_type": "code",
      "source": "your_name=input(\"What is your name? \") \nprint('Hello there' ,your_name)",
      "execution_count": 11,
      "outputs": [
        {
          "output_type": "stream",
          "name": "stdout",
          "text": "What is your name? Yes\nHello there Yes\n"
        }
      ]
    },
    {
      "metadata": {},
      "cell_type": "markdown",
      "source": "### What's in a name? Um, EVERYTHING\n\nComputer code serves two equally important purposes:\n\n1. To solve a problem (obviously)\n2. To communicate how you solved problem to another person (hmmm... I didn't think of that!)\n\nIf our code does something useful, like land a rocket, predict the weather, or calculate month-end account balances then the chances are 100% certain that *someone else will need to read and understand our code.*  \n\nTherefore it's just as important we develop code that is easily understood by both the computer and our colleagues.\n\nThis starts with the names we choose for our variables. Consider the following program:"
    },
    {
      "metadata": {
        "trusted": true
      },
      "cell_type": "code",
      "source": "y = input(\"Enter your city: \")\nx = input(\"Enter your state: \")\nprint(x,y,'is a nice place to live')",
      "execution_count": 12,
      "outputs": [
        {
          "output_type": "stream",
          "name": "stdout",
          "text": "Enter your city: Mahopac\nEnter your state: New York\nNew York Mahopac is a nice place to live\n"
        }
      ]
    },
    {
      "metadata": {},
      "cell_type": "markdown",
      "source": "What do `x` and `y` represent? Is there a semantic (design) error in this program?\n\nYou might find it easy to figure out the answers to these questions, but consider this more human-friendly version:"
    },
    {
      "metadata": {
        "trusted": true
      },
      "cell_type": "code",
      "source": "state = input(\"Enter your city: \")\ncity = input(\"Enter your state: \")\nprint(city,state,'is a nice place to live')",
      "execution_count": 13,
      "outputs": [
        {
          "output_type": "stream",
          "name": "stdout",
          "text": "Enter your city: Mahopac\nEnter your state: New York\nNew York Mahopac is a nice place to live\n"
        }
      ]
    },
    {
      "metadata": {},
      "cell_type": "markdown",
      "source": "Do the aptly-named variables make it easier to find the semantic errors in this second version?\n\n### 1.2 Now Try This\n\nWrite a program to input your name and your age and the print name and age on a single line. \n\nExample:\n```\nEnter your name: Mike\nEnter your age: 25\nMike is 25\n```\nIn the above example `Mike` was the entered name, and `25` was the entered age."
    },
    {
      "metadata": {
        "trusted": true
      },
      "cell_type": "code",
      "source": "name=input(\"What is your name? \")\nage=input(\"What is your age? \")\nprint(name ,\"is\" ,age) ",
      "execution_count": 25,
      "outputs": [
        {
          "output_type": "stream",
          "name": "stdout",
          "text": "What is your name? Mike\nWhat is your age? 25\nMike is 25\n"
        }
      ]
    },
    {
      "metadata": {},
      "cell_type": "markdown",
      "source": "### 1.3 Now Try This:\n\nNow try to write a program which asks for two separate inputs: your first name and your last name. The program should then output `Hello` with your first name and last name.\n\nFor example if you enter `Mike` for the first name and `Fudge` for the last name the program should output `Hello Mike Fudge`\n\n**HINTS**\n\n - Use appropriate variable names. If you need to create a two word variable name use an underscore in place of the space between the words. eg. `two_words` \n - You will need a separate set of inputs for each name.\n"
    },
    {
      "metadata": {
        "trusted": true
      },
      "cell_type": "code",
      "source": "first=input(\"What is your first name? \")\nsecond=input(\"What is your last name? \")\nprint(\"Hello\",first ,second)",
      "execution_count": 26,
      "outputs": [
        {
          "output_type": "stream",
          "name": "stdout",
          "text": "What is your first name? Mike\nWhat is your last name? Fudge\nHello Mike Fudge\n"
        }
      ]
    },
    {
      "metadata": {},
      "cell_type": "markdown",
      "source": "### Variable Concatenation: Your First Operator\n\nThe `+` symbol is used to combine to variables containing text values together. Consider the following example:"
    },
    {
      "metadata": {
        "trusted": true
      },
      "cell_type": "code",
      "source": "prefix = \"re\"\nsuffix = \"ment\"\nroot = input(\"Enter a root word, like 'ship': \")\nprint( prefix + root + suffix)",
      "execution_count": 27,
      "outputs": [
        {
          "output_type": "stream",
          "name": "stdout",
          "text": "Enter a root word, like 'ship': ship\nreshipment\n"
        }
      ]
    },
    {
      "metadata": {},
      "cell_type": "markdown",
      "source": "### 1.4 Now Try This\n\nWrite a program to prompt for three colors as input, then outputs those three colors as a lis, informing me which one was the middle (2nd entered) color. For example if you were to enter `red` then `green` then `blue` the program would output: `Your colors were: red, green, and blue. The middle was is green.`\n\n**HINTS**\n\n - you'll need three variables one for each input\n - you should try to make the program output like my example. This includes commas and the word `and`. \n - name your variables appropriately!\n "
    },
    {
      "metadata": {
        "trusted": true
      },
      "cell_type": "code",
      "source": "one=input(\"Enter a color \")\ntwo=input(\"Enter a second color \")\nthree=input(\"Enter a third color \")\nprint(one,\",\",two,\",and\",three,\".\",two,\"was in the middle.\")\nprint(\"%s , %s, and %s , %s was in the middle\" %(one,two,three,two))",
      "execution_count": 48,
      "outputs": [
        {
          "output_type": "stream",
          "name": "stdout",
          "text": "Enter a color r\nEnter a second color g\nEnter a third color b\nr , g ,and b . g was in the middle.\nr , g, and b , g was in the middle\n"
        }
      ]
    },
    {
      "metadata": {},
      "cell_type": "markdown",
      "source": "### F-Strings\n\nIn Python 3.7, f-strings were introduced to make it easier to format string literals in the `print()` statement. \n\nHere's how it works:\n\n- Put an `f` in front of the string literal\n- Any variable you want to print enclose in `{curly braces}`\n- At run-time the variable in `{curly braces}` is replaced with its value!\n\nFor example:"
    },
    {
      "metadata": {
        "trusted": true
      },
      "cell_type": "code",
      "source": "name = \"Mary\"\nmajor = \"Data Science\"\ngpa = \"4.0\"\nprint(f\"{name} is a {major} major. Her gpa is {gpa}\")",
      "execution_count": 54,
      "outputs": [
        {
          "output_type": "error",
          "ename": "SyntaxError",
          "evalue": "invalid syntax (<ipython-input-54-ed1c4785cc1a>, line 4)",
          "traceback": [
            "\u001b[0;36m  File \u001b[0;32m\"<ipython-input-54-ed1c4785cc1a>\"\u001b[0;36m, line \u001b[0;32m4\u001b[0m\n\u001b[0;31m    print(f\"{name} is a {major} major. Her gpa is {gpa}\")\u001b[0m\n\u001b[0m                                                       ^\u001b[0m\n\u001b[0;31mSyntaxError\u001b[0m\u001b[0;31m:\u001b[0m invalid syntax\n"
          ]
        }
      ]
    },
    {
      "metadata": {},
      "cell_type": "markdown",
      "source": "### 1.5 Now Try This\n\nRe-write the last program (1.4) to print using f-strings!"
    },
    {
      "metadata": {
        "trusted": true
      },
      "cell_type": "code",
      "source": "one=input(\"input a color\")\ntwo=input(\"input a color\")\nthree=input(\"input a color\")\nprint(f\"{one},{two},and {three}. {two} was in the middle.\")\n",
      "execution_count": 50,
      "outputs": [
        {
          "output_type": "error",
          "ename": "SyntaxError",
          "evalue": "invalid syntax (<ipython-input-50-505352453d23>, line 4)",
          "traceback": [
            "\u001b[0;36m  File \u001b[0;32m\"<ipython-input-50-505352453d23>\"\u001b[0;36m, line \u001b[0;32m4\u001b[0m\n\u001b[0;31m    print(f\"{one},{two},and {three}. {two} was in the middle.\")\u001b[0m\n\u001b[0m                                                             ^\u001b[0m\n\u001b[0;31mSyntaxError\u001b[0m\u001b[0;31m:\u001b[0m invalid syntax\n"
          ]
        }
      ]
    },
    {
      "metadata": {},
      "cell_type": "markdown",
      "source": "## Metacognition\n\nPlease answer the following questions. This should be a personal narrative, in your own voice. Answer the questions by double clicking on the question and placing your answer next to the Answer: prompt.\n\n\n1. Record any questions you have about this lab that you would like to ask in recitation. It is expected you will have questions if you did not complete the code sections correctly.  Learning how to articulate what you do not understand is an important skill of critical thinking. \n\nAnswer: I have some questions about what causes spaces between words when printing. \n\n2. What was the most difficult aspect of completing this lab? Least difficult?  \n\nAnswer: The most difficult aspect of completing this lab was setting up 1.4. The least difficult aspect of this lab was the first lesson.\n\n3. What aspects of this lab do you find most valuable? Least valuable?\n\nAnswer: I find every aspect of this lab valuble because I was able to learn new things.\n\n4. Rate your comfort level with this week's material so far.   \n\n1 ==> I can do this on my own and explain how to do it.   \n2 ==> I can do this on my own without any help.   \n3 ==> I can do this with help or guidance from others. If you choose this level please list those who helped you.   \n4 ==> I don't understand this at all yet and need extra help. If you choose this please try to articulate that which you do not understand.   \n\nAnswer: 3, I did this with assistance with my teacher and one of my friends for support. I have a feeling that I can correctly do the material now but I would need a peer to review my code.\n\n"
    },
    {
      "metadata": {
        "trusted": true
      },
      "cell_type": "code",
      "source": "",
      "execution_count": null,
      "outputs": []
    },
    {
      "metadata": {
        "trusted": true
      },
      "cell_type": "code",
      "source": "",
      "execution_count": null,
      "outputs": []
    }
  ],
  "metadata": {
    "anaconda-cloud": {},
    "kernelspec": {
      "name": "python3",
      "display_name": "Python 3",
      "language": "python"
    },
    "language_info": {
      "mimetype": "text/x-python",
      "nbconvert_exporter": "python",
      "name": "python",
      "pygments_lexer": "ipython3",
      "version": "3.5.4",
      "file_extension": ".py",
      "codemirror_mode": {
        "version": 3,
        "name": "ipython"
      }
    },
    "toc": {
      "base_numbering": 1,
      "nav_menu": {},
      "number_sections": false,
      "sideBar": false,
      "skip_h1_title": false,
      "title_cell": "Table of Contents",
      "title_sidebar": "Contents",
      "toc_cell": false,
      "toc_position": {},
      "toc_section_display": false,
      "toc_window_display": false
    }
  },
  "nbformat": 4,
  "nbformat_minor": 1
}