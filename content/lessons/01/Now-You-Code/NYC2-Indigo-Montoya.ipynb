{
  "cells": [
    {
      "metadata": {},
      "cell_type": "markdown",
      "source": "# Now You Code 2: Indigo Montoya\n\n[The Princess Bride](https://www.rottentomatoes.com/m/princess_bride/) is an adventure film from the 80's, a true cult classic. One of the many notable scenes involves a character Indigo Montoya who explains his character's motivation for revenge through the catch-phase:\n\n\"Hello. My name is Indigo Montoya. You killed my father. Prepare to die!\"\n\nYou can watch the clip here: [https://www.youtube.com/watch?v=YY4cnMmo9qw](https://www.youtube.com/watch?v=YY4cnMmo9qw)\n\nWrite a program in Python which asks the user to enter **your name**, a **relative** and a **past-tense action**. For example if you enter \"Indigo Montoya\", \"Father\" and \"killed\", the program will then output:\n\n\"Hello. My name is Indigo Montoya. You killed my father. Prepare to die!\"\n\nOr you could input \"Mike Fudge\", \"Uncle\" and \"Tickled\" to get:\n\n\"Hello. My name is Mike Fudge. You Tickled my Uncle. Prepare to die!\"\n"
    },
    {
      "metadata": {
        "collapsed": true
      },
      "cell_type": "markdown",
      "source": "## Step 1: Problem Analysis\n\nInputs: name, relative, past tense action\n\nOutputs: \"Hello. my name is name, you past tense actioned my relative. prepare to die!\"\n\nAlgorithm (Steps in Program): enter variable 1, enter variable 2, enter variable 3, print the string with all variables in the desired order"
    },
    {
      "metadata": {
        "trusted": true
      },
      "cell_type": "code",
      "source": "# Step 2: Write code here\nname=input(\"Enter a name here. \")\nrelative=input(\"Enter a relative here. \")\npta=input(\"Enter a past-tense action here. \")\nprint(\"Hello my name is\",name,\". You\",pta,\"my\",relative,\". Prepare to die!\")",
      "execution_count": 9,
      "outputs": [
        {
          "output_type": "stream",
          "name": "stdout",
          "text": "Enter a name here. Caitlin\nEnter a relative here. Cat\nEnter a past-tense action here. threw\nHello my name is Caitlin . You threw my Cat . Prepare to die!\n"
        }
      ]
    },
    {
      "metadata": {},
      "cell_type": "markdown",
      "source": "## Step 3: Questions\n\n1. What happens when you neglect the instructions and enter a past-tense action instead of a name? Does the code still run? Why?\n\nAnswer:   The code still runs when you enter a past-tense action instead of a name because the computer does not exclude any inputs.\n\n2. What type of error is it when the program runs but does not handle bad input?\n\nAnswer:  A logical error.\n\n\n3. Is there anything you can do in code to correct this type of error? Why or why not?\n\nAnswer:  You can enter your code and rewrite it to repair the logical error.\n\n"
    },
    {
      "metadata": {},
      "cell_type": "markdown",
      "source": "## Step 4: Reflection\n\nReflect upon your experience completing this assignment. This should be a personal narrative, in your own voice, and cite specifics relevant to the activity as to help the grader understand how you arrived at the code you submitted. Things to consider touching upon: Elaborate on the process itself. Did your original problem analysis work as designed?  How many iterations did you go through before you arrived at the solution? Where did you struggle along the way and how did you overcome it? What did you learn from completing the assignment? What do you need to work on to get better? What was most valuable and least valuable about this exercise? Do you have any suggestions for improvements?\n\nTo make a good reflection, you should journal your thoughts, questions and comments while you complete the exercise.\n\nKeep your response to between 100 and 250 words.\n\n`--== Write Your Reflection Below Here ==--`\nWriting the code was a bit difficult but using the things i learned in the last lesson i managed to make it function correctly. Planning out the process was really simple but then i had to write the code which was a bit more complex. I ran into a couple issues like forgetting to put input for past-tense action, or forgetting to put commas before the variables between string literals. I overcame my struggles by asking my letting my friend run the code and seeing if he noticed any errors within the code. I need to get better at looking at my code and get a better idea on what i want to code before i start working. I learned more about how inputs and variables function."
    }
  ],
  "metadata": {
    "anaconda-cloud": {},
    "kernelspec": {
      "name": "python3",
      "display_name": "Python 3",
      "language": "python"
    },
    "toc": {
      "base_numbering": 1,
      "nav_menu": {},
      "number_sections": false,
      "sideBar": false,
      "skip_h1_title": false,
      "title_cell": "Table of Contents",
      "title_sidebar": "Contents",
      "toc_cell": false,
      "toc_position": {},
      "toc_section_display": false,
      "toc_window_display": false
    }
  },
  "nbformat": 4,
  "nbformat_minor": 1
}