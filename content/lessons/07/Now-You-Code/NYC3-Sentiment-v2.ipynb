{
  "cells": [
    {
      "metadata": {},
      "cell_type": "markdown",
      "source": "# Now You Code 3: Sentiment v2.0\n\nLet's write a better version of the basic sentiment analyzer in Python. Instead of using a string of words, this example will read a list of words positive and negative words from a file.\n\nIn fact, we've included two files for you so you don't have to come up with the positive and negative words! Just load the files and go! Of course if you want more positive and negative words you can always edit the files.\n\n- Positive words are in `NYC3-pos.txt`\n- Negative words are in `NYC3-neg.txt`\n\nYou will have to write a function called `LoadWords(filename)` to read the words from the file and load them into a string.\n\n## Step 1: Problem Analysis for function\n\nInput (function arguments): `filename` to read.\nOutput (function returns): a `text` string of words as loaded from the file.\n\nAlgorithm:\n\n```\nopen the filename for reading\n    read the entire file all at once, into text\n    return the text\n```\n"
    },
    {
      "metadata": {
        "trusted": false
      },
      "cell_type": "code",
      "source": "## Step 2: Write the LoadWords(filename) function\n\n    ",
      "execution_count": null,
      "outputs": []
    },
    {
      "metadata": {
        "trusted": true
      },
      "cell_type": "code",
      "source": "## Quick test of your LoadWords() function\npos = LoadWords(\"NYC3-pos.txt\")\nneg = LoadWords(\"NYC3-neg.txt\")\nprint(\"POSITIVE WORD LIST:\",pos)\nprint(\"NEGATIVE WORD LIST\", neg)",
      "execution_count": 1,
      "outputs": [
        {
          "output_type": "error",
          "ename": "NameError",
          "evalue": "name 'LoadWords' is not defined",
          "traceback": [
            "\u001b[0;31m---------------------------------------------------------------------------\u001b[0m",
            "\u001b[0;31mNameError\u001b[0m                                 Traceback (most recent call last)",
            "\u001b[0;32m<ipython-input-1-bd27fc44dbe3>\u001b[0m in \u001b[0;36m<module>\u001b[0;34m()\u001b[0m\n\u001b[1;32m      1\u001b[0m \u001b[0;31m## Quick test of your LoadWords() function\u001b[0m\u001b[0;34m\u001b[0m\u001b[0;34m\u001b[0m\u001b[0m\n\u001b[0;32m----> 2\u001b[0;31m \u001b[0mpos\u001b[0m \u001b[0;34m=\u001b[0m \u001b[0mLoadWords\u001b[0m\u001b[0;34m(\u001b[0m\u001b[0;34m\"NYC3-pos.txt\"\u001b[0m\u001b[0;34m)\u001b[0m\u001b[0;34m\u001b[0m\u001b[0m\n\u001b[0m\u001b[1;32m      3\u001b[0m \u001b[0mneg\u001b[0m \u001b[0;34m=\u001b[0m \u001b[0mLoadWords\u001b[0m\u001b[0;34m(\u001b[0m\u001b[0;34m\"NYC3-neg.txt\"\u001b[0m\u001b[0;34m)\u001b[0m\u001b[0;34m\u001b[0m\u001b[0m\n\u001b[1;32m      4\u001b[0m \u001b[0mprint\u001b[0m\u001b[0;34m(\u001b[0m\u001b[0;34m\"POSITIVE WORD LIST:\"\u001b[0m\u001b[0;34m,\u001b[0m\u001b[0mpos\u001b[0m\u001b[0;34m)\u001b[0m\u001b[0;34m\u001b[0m\u001b[0m\n\u001b[1;32m      5\u001b[0m \u001b[0mprint\u001b[0m\u001b[0;34m(\u001b[0m\u001b[0;34m\"NEGATIVE WORD LIST\"\u001b[0m\u001b[0;34m,\u001b[0m \u001b[0mneg\u001b[0m\u001b[0;34m)\u001b[0m\u001b[0;34m\u001b[0m\u001b[0m\n",
            "\u001b[0;31mNameError\u001b[0m: name 'LoadWords' is not defined"
          ]
        }
      ]
    },
    {
      "metadata": {},
      "cell_type": "markdown",
      "source": "## Step 3: The Final Program\n  \nNow write a program which allows you to enter text and then analyzes the sentiment of the text by printing a score. The program should keep analyzing text input until you enter \"quit\".\n\nSample Run\n\n```\nSentiment Analyzer 1.0\nType 'quit' to exit.\nEnter Text: i love a good book from amazon\n2 positive.\nEnter Text: i hate amazon their service makes me angry\n-2 negative.\nEnter Text: i love to hate amazon\n0 neutral.\nEnter Text: quit\n```\n\n### 3.a Problem Analysis\n\nInput:\n\nOutput:\n\nAlgorithm:\n\n\n\n"
    },
    {
      "metadata": {
        "trusted": false
      },
      "cell_type": "code",
      "source": "## 3.b Write solution here, use Load Words to help you read in the pos and neg words.\n\n",
      "execution_count": null,
      "outputs": []
    },
    {
      "metadata": {},
      "cell_type": "markdown",
      "source": "## Step 4: Questions\n\n1. This is a better solution than sentiment 1.0. Why?\n\nAnswer:\n\n\n2. Execute the program and enter the following input: `i love! a GOOD book` What is the score and why? how can this issue be fixed?\n\nAnswer:\n\n3. Re-write your final solution to address the issues discovered in step 2. Explain the approach you took.\n\nAnswer:"
    },
    {
      "metadata": {},
      "cell_type": "markdown",
      "source": "## Step 5: Reflection\n\nReflect upon your experience completing this assignment. This should be a personal narrative, in your own voice, and cite specifics relevant to the activity as to help the grader understand how you arrived at the code you submitted. Things to consider touching upon: Elaborate on the process itself. Did your original problem analysis work as designed?  How many iterations did you go through before you arrived at the solution? Where did you struggle along the way and how did you overcome it? What did you learn from completing the assignment? What do you need to work on to get better? What was most valuable and least valuable about this exercise? Do you have any suggestions for improvements?\n\nTo make a good reflection, you should journal your thoughts, questions and comments while you complete the exercise.\n\nKeep your response to between 100 and 250 words.\n\n`--== Write Your Reflection Below Here ==--`\n\n"
    }
  ],
  "metadata": {
    "anaconda-cloud": {},
    "kernelspec": {
      "name": "python3",
      "display_name": "Python 3",
      "language": "python"
    },
    "language_info": {
      "mimetype": "text/x-python",
      "nbconvert_exporter": "python",
      "name": "python",
      "file_extension": ".py",
      "version": "3.5.4",
      "pygments_lexer": "ipython3",
      "codemirror_mode": {
        "version": 3,
        "name": "ipython"
      }
    },
    "toc": {
      "base_numbering": 1,
      "nav_menu": {},
      "number_sections": false,
      "sideBar": false,
      "skip_h1_title": false,
      "title_cell": "Table of Contents",
      "title_sidebar": "Contents",
      "toc_cell": false,
      "toc_position": {},
      "toc_section_display": false,
      "toc_window_display": false
    }
  },
  "nbformat": 4,
  "nbformat_minor": 1
}